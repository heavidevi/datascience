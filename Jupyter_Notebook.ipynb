{
 "cells": [
  {
   "cell_type": "markdown",
   "metadata": {
    "tags": []
   },
   "source": [
    "<center>\n",
    "    <img src=\"https://s3-api.us-geo.objectstorage.softlayer.net/cf-courses-data/CognitiveClass/Logos/organization_logo/organization_logo.png\" width=\"300\" alt=\"cognitiveclass.ai logo\"  />\n",
    "</center>\n"
   ]
  },
  {
   "cell_type": "markdown",
   "metadata": {},
   "source": [
    "#### Add your code below following the instructions given in the course\n"
   ]
  },
  {
   "cell_type": "markdown",
   "metadata": {},
   "source": [
    "my jupyter Notebook on IBM Watson Studio\n",
    "\n",
    "heavy driver i am a student\n",
    "\n",
    "_i am interested in data science because i like maths and code both and data science offers this service\n",
    "\n",
    "the following code consist of taking square of numbers"
   ]
  },
  {
   "cell_type": "code",
   "execution_count": null,
   "metadata": {},
   "outputs": [],
   "source": [
    "series=[5,6,7,8]\n",
    "for i in series:\n",
    "    a=i*i\n",
    "            \n",
    "    print (a)\n",
    "        \n",
    "        "
   ]
  },
  {
   "cell_type": "markdown",
   "metadata": {},
   "source": [
    "_horizontal rule_  <hr> hello </hr>\n",
    "_bulleted rule_  <ul> hello</ul>\n",
    "_numbered list_<ol>  hello</ol>\n",
    "_tables_  <table> hello </table>\n",
    "_hyperlinks_  <a>hello</a>\n",
    "_images_ <img>hello </img>\n",
    "_code highlighting_  <mark>hello </mark>\n",
    "_blocked codes_   <blockqoute> hello </blockqoute>\n",
    "_strikethrough_  <s>hello world</s>\n",
    "\n"
   ]
  }
 ],
 "metadata": {
  "kernelspec": {
   "display_name": "Python",
   "language": "python",
   "name": "conda-env-python-py"
  },
  "language_info": {
   "codemirror_mode": {
    "name": "ipython",
    "version": 3
   },
   "file_extension": ".py",
   "mimetype": "text/x-python",
   "name": "python",
   "nbconvert_exporter": "python",
   "pygments_lexer": "ipython3",
   "version": "3.7.12"
  }
 },
 "nbformat": 4,
 "nbformat_minor": 4
}
