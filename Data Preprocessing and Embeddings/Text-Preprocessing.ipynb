{
  "cells": [
    {
      "cell_type": "markdown",
      "source": [
        "## Dataset:\n",
        "https://www.kaggle.com/datasets/lakshmi25npathi/imdb-dataset-of-50k-movie-reviews"
      ],
      "metadata": {
        "id": "XQ7oje4Bik85"
      }
    },
    {
      "cell_type": "code",
      "source": [
        "import pandas as pd"
      ],
      "metadata": {
        "id": "aW61ohEtjx-H"
      },
      "execution_count": 1,
      "outputs": []
    },
    {
      "cell_type": "code",
      "source": [
        "data_path = \"IMDB Dataset.csv\""
      ],
      "metadata": {
        "id": "rFFr9P5Gj3la"
      },
      "execution_count": 6,
      "outputs": []
    },
    {
      "cell_type": "code",
      "execution_count": 7,
      "metadata": {
        "execution": {
          "iopub.execute_input": "2021-12-31T06:31:41.835385Z",
          "iopub.status.busy": "2021-12-31T06:31:41.834548Z",
          "iopub.status.idle": "2021-12-31T06:31:43.691014Z",
          "shell.execute_reply": "2021-12-31T06:31:43.689926Z",
          "shell.execute_reply.started": "2021-12-31T06:31:41.835329Z"
        },
        "id": "p3I8FoIcfXI1"
      },
      "outputs": [],
      "source": [
        "df = pd.read_csv(data_path)"
      ]
    },
    {
      "cell_type": "code",
      "execution_count": 8,
      "metadata": {
        "execution": {
          "iopub.execute_input": "2021-12-31T06:31:45.066838Z",
          "iopub.status.busy": "2021-12-31T06:31:45.066171Z",
          "iopub.status.idle": "2021-12-31T06:31:45.074943Z",
          "shell.execute_reply": "2021-12-31T06:31:45.074024Z",
          "shell.execute_reply.started": "2021-12-31T06:31:45.066796Z"
        },
        "colab": {
          "base_uri": "https://localhost:8080/"
        },
        "id": "Z2xd0TNcfXI2",
        "outputId": "be187eb5-15ff-41fb-fe83-3b388d62d8af"
      },
      "outputs": [
        {
          "output_type": "execute_result",
          "data": {
            "text/plain": [
              "(50000, 2)"
            ]
          },
          "metadata": {},
          "execution_count": 8
        }
      ],
      "source": [
        "df.shape"
      ]
    },
    {
      "cell_type": "code",
      "source": [
        "df.head()"
      ],
      "metadata": {
        "colab": {
          "base_uri": "https://localhost:8080/",
          "height": 206
        },
        "id": "sVljHc0QjOtx",
        "outputId": "007105ce-8bd2-4f38-e166-8e2264ceddf6"
      },
      "execution_count": 9,
      "outputs": [
        {
          "output_type": "execute_result",
          "data": {
            "text/plain": [
              "                                              review sentiment\n",
              "0  One of the other reviewers has mentioned that ...  positive\n",
              "1  A wonderful little production. <br /><br />The...  positive\n",
              "2  I thought this was a wonderful way to spend ti...  positive\n",
              "3  Basically there's a family where a little boy ...  negative\n",
              "4  Petter Mattei's \"Love in the Time of Money\" is...  positive"
            ],
            "text/html": [
              "\n",
              "  <div id=\"df-3d7268cb-de75-47cf-9652-994e63a0affd\" class=\"colab-df-container\">\n",
              "    <div>\n",
              "<style scoped>\n",
              "    .dataframe tbody tr th:only-of-type {\n",
              "        vertical-align: middle;\n",
              "    }\n",
              "\n",
              "    .dataframe tbody tr th {\n",
              "        vertical-align: top;\n",
              "    }\n",
              "\n",
              "    .dataframe thead th {\n",
              "        text-align: right;\n",
              "    }\n",
              "</style>\n",
              "<table border=\"1\" class=\"dataframe\">\n",
              "  <thead>\n",
              "    <tr style=\"text-align: right;\">\n",
              "      <th></th>\n",
              "      <th>review</th>\n",
              "      <th>sentiment</th>\n",
              "    </tr>\n",
              "  </thead>\n",
              "  <tbody>\n",
              "    <tr>\n",
              "      <th>0</th>\n",
              "      <td>One of the other reviewers has mentioned that ...</td>\n",
              "      <td>positive</td>\n",
              "    </tr>\n",
              "    <tr>\n",
              "      <th>1</th>\n",
              "      <td>A wonderful little production. &lt;br /&gt;&lt;br /&gt;The...</td>\n",
              "      <td>positive</td>\n",
              "    </tr>\n",
              "    <tr>\n",
              "      <th>2</th>\n",
              "      <td>I thought this was a wonderful way to spend ti...</td>\n",
              "      <td>positive</td>\n",
              "    </tr>\n",
              "    <tr>\n",
              "      <th>3</th>\n",
              "      <td>Basically there's a family where a little boy ...</td>\n",
              "      <td>negative</td>\n",
              "    </tr>\n",
              "    <tr>\n",
              "      <th>4</th>\n",
              "      <td>Petter Mattei's \"Love in the Time of Money\" is...</td>\n",
              "      <td>positive</td>\n",
              "    </tr>\n",
              "  </tbody>\n",
              "</table>\n",
              "</div>\n",
              "    <div class=\"colab-df-buttons\">\n",
              "\n",
              "  <div class=\"colab-df-container\">\n",
              "    <button class=\"colab-df-convert\" onclick=\"convertToInteractive('df-3d7268cb-de75-47cf-9652-994e63a0affd')\"\n",
              "            title=\"Convert this dataframe to an interactive table.\"\n",
              "            style=\"display:none;\">\n",
              "\n",
              "  <svg xmlns=\"http://www.w3.org/2000/svg\" height=\"24px\" viewBox=\"0 -960 960 960\">\n",
              "    <path d=\"M120-120v-720h720v720H120Zm60-500h600v-160H180v160Zm220 220h160v-160H400v160Zm0 220h160v-160H400v160ZM180-400h160v-160H180v160Zm440 0h160v-160H620v160ZM180-180h160v-160H180v160Zm440 0h160v-160H620v160Z\"/>\n",
              "  </svg>\n",
              "    </button>\n",
              "\n",
              "  <style>\n",
              "    .colab-df-container {\n",
              "      display:flex;\n",
              "      gap: 12px;\n",
              "    }\n",
              "\n",
              "    .colab-df-convert {\n",
              "      background-color: #E8F0FE;\n",
              "      border: none;\n",
              "      border-radius: 50%;\n",
              "      cursor: pointer;\n",
              "      display: none;\n",
              "      fill: #1967D2;\n",
              "      height: 32px;\n",
              "      padding: 0 0 0 0;\n",
              "      width: 32px;\n",
              "    }\n",
              "\n",
              "    .colab-df-convert:hover {\n",
              "      background-color: #E2EBFA;\n",
              "      box-shadow: 0px 1px 2px rgba(60, 64, 67, 0.3), 0px 1px 3px 1px rgba(60, 64, 67, 0.15);\n",
              "      fill: #174EA6;\n",
              "    }\n",
              "\n",
              "    .colab-df-buttons div {\n",
              "      margin-bottom: 4px;\n",
              "    }\n",
              "\n",
              "    [theme=dark] .colab-df-convert {\n",
              "      background-color: #3B4455;\n",
              "      fill: #D2E3FC;\n",
              "    }\n",
              "\n",
              "    [theme=dark] .colab-df-convert:hover {\n",
              "      background-color: #434B5C;\n",
              "      box-shadow: 0px 1px 3px 1px rgba(0, 0, 0, 0.15);\n",
              "      filter: drop-shadow(0px 1px 2px rgba(0, 0, 0, 0.3));\n",
              "      fill: #FFFFFF;\n",
              "    }\n",
              "  </style>\n",
              "\n",
              "    <script>\n",
              "      const buttonEl =\n",
              "        document.querySelector('#df-3d7268cb-de75-47cf-9652-994e63a0affd button.colab-df-convert');\n",
              "      buttonEl.style.display =\n",
              "        google.colab.kernel.accessAllowed ? 'block' : 'none';\n",
              "\n",
              "      async function convertToInteractive(key) {\n",
              "        const element = document.querySelector('#df-3d7268cb-de75-47cf-9652-994e63a0affd');\n",
              "        const dataTable =\n",
              "          await google.colab.kernel.invokeFunction('convertToInteractive',\n",
              "                                                    [key], {});\n",
              "        if (!dataTable) return;\n",
              "\n",
              "        const docLinkHtml = 'Like what you see? Visit the ' +\n",
              "          '<a target=\"_blank\" href=https://colab.research.google.com/notebooks/data_table.ipynb>data table notebook</a>'\n",
              "          + ' to learn more about interactive tables.';\n",
              "        element.innerHTML = '';\n",
              "        dataTable['output_type'] = 'display_data';\n",
              "        await google.colab.output.renderOutput(dataTable, element);\n",
              "        const docLink = document.createElement('div');\n",
              "        docLink.innerHTML = docLinkHtml;\n",
              "        element.appendChild(docLink);\n",
              "      }\n",
              "    </script>\n",
              "  </div>\n",
              "\n",
              "\n",
              "<div id=\"df-f496d023-023c-4644-88ba-a214ea0fe661\">\n",
              "  <button class=\"colab-df-quickchart\" onclick=\"quickchart('df-f496d023-023c-4644-88ba-a214ea0fe661')\"\n",
              "            title=\"Suggest charts\"\n",
              "            style=\"display:none;\">\n",
              "\n",
              "<svg xmlns=\"http://www.w3.org/2000/svg\" height=\"24px\"viewBox=\"0 0 24 24\"\n",
              "     width=\"24px\">\n",
              "    <g>\n",
              "        <path d=\"M19 3H5c-1.1 0-2 .9-2 2v14c0 1.1.9 2 2 2h14c1.1 0 2-.9 2-2V5c0-1.1-.9-2-2-2zM9 17H7v-7h2v7zm4 0h-2V7h2v10zm4 0h-2v-4h2v4z\"/>\n",
              "    </g>\n",
              "</svg>\n",
              "  </button>\n",
              "\n",
              "<style>\n",
              "  .colab-df-quickchart {\n",
              "      --bg-color: #E8F0FE;\n",
              "      --fill-color: #1967D2;\n",
              "      --hover-bg-color: #E2EBFA;\n",
              "      --hover-fill-color: #174EA6;\n",
              "      --disabled-fill-color: #AAA;\n",
              "      --disabled-bg-color: #DDD;\n",
              "  }\n",
              "\n",
              "  [theme=dark] .colab-df-quickchart {\n",
              "      --bg-color: #3B4455;\n",
              "      --fill-color: #D2E3FC;\n",
              "      --hover-bg-color: #434B5C;\n",
              "      --hover-fill-color: #FFFFFF;\n",
              "      --disabled-bg-color: #3B4455;\n",
              "      --disabled-fill-color: #666;\n",
              "  }\n",
              "\n",
              "  .colab-df-quickchart {\n",
              "    background-color: var(--bg-color);\n",
              "    border: none;\n",
              "    border-radius: 50%;\n",
              "    cursor: pointer;\n",
              "    display: none;\n",
              "    fill: var(--fill-color);\n",
              "    height: 32px;\n",
              "    padding: 0;\n",
              "    width: 32px;\n",
              "  }\n",
              "\n",
              "  .colab-df-quickchart:hover {\n",
              "    background-color: var(--hover-bg-color);\n",
              "    box-shadow: 0 1px 2px rgba(60, 64, 67, 0.3), 0 1px 3px 1px rgba(60, 64, 67, 0.15);\n",
              "    fill: var(--button-hover-fill-color);\n",
              "  }\n",
              "\n",
              "  .colab-df-quickchart-complete:disabled,\n",
              "  .colab-df-quickchart-complete:disabled:hover {\n",
              "    background-color: var(--disabled-bg-color);\n",
              "    fill: var(--disabled-fill-color);\n",
              "    box-shadow: none;\n",
              "  }\n",
              "\n",
              "  .colab-df-spinner {\n",
              "    border: 2px solid var(--fill-color);\n",
              "    border-color: transparent;\n",
              "    border-bottom-color: var(--fill-color);\n",
              "    animation:\n",
              "      spin 1s steps(1) infinite;\n",
              "  }\n",
              "\n",
              "  @keyframes spin {\n",
              "    0% {\n",
              "      border-color: transparent;\n",
              "      border-bottom-color: var(--fill-color);\n",
              "      border-left-color: var(--fill-color);\n",
              "    }\n",
              "    20% {\n",
              "      border-color: transparent;\n",
              "      border-left-color: var(--fill-color);\n",
              "      border-top-color: var(--fill-color);\n",
              "    }\n",
              "    30% {\n",
              "      border-color: transparent;\n",
              "      border-left-color: var(--fill-color);\n",
              "      border-top-color: var(--fill-color);\n",
              "      border-right-color: var(--fill-color);\n",
              "    }\n",
              "    40% {\n",
              "      border-color: transparent;\n",
              "      border-right-color: var(--fill-color);\n",
              "      border-top-color: var(--fill-color);\n",
              "    }\n",
              "    60% {\n",
              "      border-color: transparent;\n",
              "      border-right-color: var(--fill-color);\n",
              "    }\n",
              "    80% {\n",
              "      border-color: transparent;\n",
              "      border-right-color: var(--fill-color);\n",
              "      border-bottom-color: var(--fill-color);\n",
              "    }\n",
              "    90% {\n",
              "      border-color: transparent;\n",
              "      border-bottom-color: var(--fill-color);\n",
              "    }\n",
              "  }\n",
              "</style>\n",
              "\n",
              "  <script>\n",
              "    async function quickchart(key) {\n",
              "      const quickchartButtonEl =\n",
              "        document.querySelector('#' + key + ' button');\n",
              "      quickchartButtonEl.disabled = true;  // To prevent multiple clicks.\n",
              "      quickchartButtonEl.classList.add('colab-df-spinner');\n",
              "      try {\n",
              "        const charts = await google.colab.kernel.invokeFunction(\n",
              "            'suggestCharts', [key], {});\n",
              "      } catch (error) {\n",
              "        console.error('Error during call to suggestCharts:', error);\n",
              "      }\n",
              "      quickchartButtonEl.classList.remove('colab-df-spinner');\n",
              "      quickchartButtonEl.classList.add('colab-df-quickchart-complete');\n",
              "    }\n",
              "    (() => {\n",
              "      let quickchartButtonEl =\n",
              "        document.querySelector('#df-f496d023-023c-4644-88ba-a214ea0fe661 button');\n",
              "      quickchartButtonEl.style.display =\n",
              "        google.colab.kernel.accessAllowed ? 'block' : 'none';\n",
              "    })();\n",
              "  </script>\n",
              "</div>\n",
              "\n",
              "    </div>\n",
              "  </div>\n"
            ],
            "application/vnd.google.colaboratory.intrinsic+json": {
              "type": "dataframe",
              "variable_name": "df",
              "summary": "{\n  \"name\": \"df\",\n  \"rows\": 50000,\n  \"fields\": [\n    {\n      \"column\": \"review\",\n      \"properties\": {\n        \"dtype\": \"string\",\n        \"num_unique_values\": 49582,\n        \"samples\": [\n          \"\\\"Soul Plane\\\" is a horrible attempt at comedy that only should appeal people with thick skulls, bloodshot eyes and furry pawns. <br /><br />The plot is not only incoherent but also non-existent, acting is mostly sub sub-par with a gang of highly moronic and dreadful characters thrown in for bad measure, jokes are often spotted miles ahead and almost never even a bit amusing. This movie lacks any structure and is full of racial stereotypes that must have seemed old even in the fifties, the only thing it really has going for it is some pretty ladies, but really, if you want that you can rent something from the \\\"Adult\\\" section. OK?<br /><br />I can hardly see anything here to recommend since you'll probably have a lot a better and productive time chasing rats with a sledgehammer or inventing waterproof teabags or whatever.<br /><br />2/10\",\n          \"Guest from the Future tells a fascinating story of time travel, friendship, battle of good and evil -- all with a small budget, child actors, and few special effects. Something for Spielberg and Lucas to learn from. ;) A sixth-grader Kolya \\\"Nick\\\" Gerasimov finds a time machine in the basement of a decrepit building and travels 100 years into the future. He discovers a near-perfect, utopian society where robots play guitars and write poetry, everyone is kind to each other and people enjoy everything technology has to offer. Alice is the daughter of a prominent scientist who invented a device called Mielophone that allows to read minds of humans and animals. The device can be put to both good and bad use, depending on whose hands it falls into. When two evil space pirates from Saturn who want to rule the universe attempt to steal Mielophone, it falls into the hands of 20th century school boy Nick. With the pirates hot on his tracks, he travels back to his time, followed by the pirates, and Alice. Chaos, confusion and funny situations follow as the luckless pirates try to blend in with the earthlings. Alice enrolls in the same school Nick goes to and demonstrates superhuman abilities in PE class. The catch is, Alice doesn't know what Nick looks like, while the pirates do. Also, the pirates are able to change their appearance and turn literally into anyone. (Hmm, I wonder if this is where James Cameron got the idea for Terminator...) Who gets to Nick -- and Mielophone -- first? Excellent plot, non-stop adventures, and great soundtrack. I wish Hollywood made kid movies like this one...\",\n          \"\\\"National Treasure\\\" (2004) is a thoroughly misguided hodge-podge of plot entanglements that borrow from nearly every cloak and dagger government conspiracy clich\\u00e9 that has ever been written. The film stars Nicholas Cage as Benjamin Franklin Gates (how precious is that, I ask you?); a seemingly normal fellow who, for no other reason than being of a lineage of like-minded misguided fortune hunters, decides to steal a 'national treasure' that has been hidden by the United States founding fathers. After a bit of subtext and background that plays laughably (unintentionally) like Indiana Jones meets The Patriot, the film degenerates into one misguided whimsy after another \\u0096 attempting to create a 'Stanley Goodspeed' regurgitation of Nicholas Cage and launch the whole convoluted mess forward with a series of high octane, but disconnected misadventures.<br /><br />The relevancy and logic to having George Washington and his motley crew of patriots burying a king's ransom someplace on native soil, and then, going through the meticulous plan of leaving clues scattered throughout U.S. currency art work, is something that director Jon Turteltaub never quite gets around to explaining. Couldn't Washington found better usage for such wealth during the start up of the country? Hence, we are left with a mystery built on top of an enigma that is already on shaky ground by the time Ben appoints himself the new custodian of this untold wealth. Ben's intentions are noble \\u0096 if confusing. He's set on protecting the treasure. For who and when?\\u0085your guess is as good as mine.<br /><br />But there are a few problems with Ben's crusade. First up, his friend, Ian Holmes (Sean Bean) decides that he can't wait for Ben to make up his mind about stealing the Declaration of Independence from the National Archives (oh, yeah \\u0096 brilliant idea!). Presumably, the back of that famous document holds the secret answer to the ultimate fortune. So Ian tries to kill Ben. The assassination attempt is, of course, unsuccessful, if overly melodramatic. It also affords Ben the opportunity to pick up, and pick on, the very sultry curator of the archives, Abigail Chase (Diane Kruger). She thinks Ben is clearly a nut \\u0096 at least at the beginning. But true to action/romance form, Abby's resolve melts quicker than you can say, \\\"is that the Hope Diamond?\\\" The film moves into full X-File-ish mode, as the FBI, mistakenly believing that Ben is behind the theft, retaliate in various benign ways that lead to a multi-layering of action sequences reminiscent of Mission Impossible meets The Fugitive. Honestly, don't those guys ever get 'intelligence' information that is correct? In the final analysis, \\\"National Treasure\\\" isn't great film making, so much as it's a patchwork rehash of tired old bits from other movies, woven together from scraps, the likes of which would make IL' Betsy Ross blush.<br /><br />The Buena Vista DVD delivers a far more generous treatment than this film is deserving of. The anamorphic widescreen picture exhibits a very smooth and finely detailed image with very rich colors, natural flesh tones, solid blacks and clean whites. The stylized image is also free of blemishes and digital enhancements. The audio is 5.1 and delivers a nice sonic boom to your side and rear speakers with intensity and realism. Extras include a host of promotional junket material that is rather deep and over the top in its explanation of how and why this film was made. If only, as an audience, we had had more clarification as to why Ben and co. were chasing after an illusive treasure, this might have been one good flick. Extras conclude with the theatrical trailer, audio commentary and deleted scenes. Not for the faint-hearted \\u0096 just the thick-headed.\"\n        ],\n        \"semantic_type\": \"\",\n        \"description\": \"\"\n      }\n    },\n    {\n      \"column\": \"sentiment\",\n      \"properties\": {\n        \"dtype\": \"category\",\n        \"num_unique_values\": 2,\n        \"samples\": [\n          \"negative\",\n          \"positive\"\n        ],\n        \"semantic_type\": \"\",\n        \"description\": \"\"\n      }\n    }\n  ]\n}"
            }
          },
          "metadata": {},
          "execution_count": 9
        }
      ]
    },
    {
      "cell_type": "code",
      "source": [
        "df = df.head(100)\n",
        "#making a new datafram of 100 movies"
      ],
      "metadata": {
        "id": "eZCM9UfFmf1M"
      },
      "execution_count": 12,
      "outputs": []
    },
    {
      "cell_type": "code",
      "source": [
        "df.shape"
      ],
      "metadata": {
        "colab": {
          "base_uri": "https://localhost:8080/"
        },
        "id": "9O0EVPWxmvEk",
        "outputId": "df8cde4b-d955-42ae-ac90-0b484688f7c1"
      },
      "execution_count": 11,
      "outputs": [
        {
          "output_type": "execute_result",
          "data": {
            "text/plain": [
              "(100, 2)"
            ]
          },
          "metadata": {},
          "execution_count": 11
        }
      ]
    },
    {
      "cell_type": "code",
      "execution_count": null,
      "metadata": {
        "execution": {
          "iopub.execute_input": "2021-12-31T06:31:45.928154Z",
          "iopub.status.busy": "2021-12-31T06:31:45.927888Z",
          "iopub.status.idle": "2021-12-31T06:31:45.945137Z",
          "shell.execute_reply": "2021-12-31T06:31:45.944403Z",
          "shell.execute_reply.started": "2021-12-31T06:31:45.928126Z"
        },
        "colab": {
          "base_uri": "https://localhost:8080/",
          "height": 206
        },
        "id": "IK472BClfXI2",
        "outputId": "afcc59c2-55b0-4f3a-a6c3-8487a7b7c57d"
      },
      "outputs": [
        {
          "output_type": "execute_result",
          "data": {
            "text/plain": [
              "                                              review sentiment\n",
              "0  One of the other reviewers has mentioned that ...  positive\n",
              "1  A wonderful little production. <br /><br />The...  positive\n",
              "2  I thought this was a wonderful way to spend ti...  positive\n",
              "3  Basically there's a family where a little boy ...  negative\n",
              "4  Petter Mattei's \"Love in the Time of Money\" is...  positive"
            ],
            "text/html": [
              "\n",
              "  <div id=\"df-5a2a5a76-3e99-46ad-9af7-09d697b12002\" class=\"colab-df-container\">\n",
              "    <div>\n",
              "<style scoped>\n",
              "    .dataframe tbody tr th:only-of-type {\n",
              "        vertical-align: middle;\n",
              "    }\n",
              "\n",
              "    .dataframe tbody tr th {\n",
              "        vertical-align: top;\n",
              "    }\n",
              "\n",
              "    .dataframe thead th {\n",
              "        text-align: right;\n",
              "    }\n",
              "</style>\n",
              "<table border=\"1\" class=\"dataframe\">\n",
              "  <thead>\n",
              "    <tr style=\"text-align: right;\">\n",
              "      <th></th>\n",
              "      <th>review</th>\n",
              "      <th>sentiment</th>\n",
              "    </tr>\n",
              "  </thead>\n",
              "  <tbody>\n",
              "    <tr>\n",
              "      <th>0</th>\n",
              "      <td>One of the other reviewers has mentioned that ...</td>\n",
              "      <td>positive</td>\n",
              "    </tr>\n",
              "    <tr>\n",
              "      <th>1</th>\n",
              "      <td>A wonderful little production. &lt;br /&gt;&lt;br /&gt;The...</td>\n",
              "      <td>positive</td>\n",
              "    </tr>\n",
              "    <tr>\n",
              "      <th>2</th>\n",
              "      <td>I thought this was a wonderful way to spend ti...</td>\n",
              "      <td>positive</td>\n",
              "    </tr>\n",
              "    <tr>\n",
              "      <th>3</th>\n",
              "      <td>Basically there's a family where a little boy ...</td>\n",
              "      <td>negative</td>\n",
              "    </tr>\n",
              "    <tr>\n",
              "      <th>4</th>\n",
              "      <td>Petter Mattei's \"Love in the Time of Money\" is...</td>\n",
              "      <td>positive</td>\n",
              "    </tr>\n",
              "  </tbody>\n",
              "</table>\n",
              "</div>\n",
              "    <div class=\"colab-df-buttons\">\n",
              "\n",
              "  <div class=\"colab-df-container\">\n",
              "    <button class=\"colab-df-convert\" onclick=\"convertToInteractive('df-5a2a5a76-3e99-46ad-9af7-09d697b12002')\"\n",
              "            title=\"Convert this dataframe to an interactive table.\"\n",
              "            style=\"display:none;\">\n",
              "\n",
              "  <svg xmlns=\"http://www.w3.org/2000/svg\" height=\"24px\" viewBox=\"0 -960 960 960\">\n",
              "    <path d=\"M120-120v-720h720v720H120Zm60-500h600v-160H180v160Zm220 220h160v-160H400v160Zm0 220h160v-160H400v160ZM180-400h160v-160H180v160Zm440 0h160v-160H620v160ZM180-180h160v-160H180v160Zm440 0h160v-160H620v160Z\"/>\n",
              "  </svg>\n",
              "    </button>\n",
              "\n",
              "  <style>\n",
              "    .colab-df-container {\n",
              "      display:flex;\n",
              "      gap: 12px;\n",
              "    }\n",
              "\n",
              "    .colab-df-convert {\n",
              "      background-color: #E8F0FE;\n",
              "      border: none;\n",
              "      border-radius: 50%;\n",
              "      cursor: pointer;\n",
              "      display: none;\n",
              "      fill: #1967D2;\n",
              "      height: 32px;\n",
              "      padding: 0 0 0 0;\n",
              "      width: 32px;\n",
              "    }\n",
              "\n",
              "    .colab-df-convert:hover {\n",
              "      background-color: #E2EBFA;\n",
              "      box-shadow: 0px 1px 2px rgba(60, 64, 67, 0.3), 0px 1px 3px 1px rgba(60, 64, 67, 0.15);\n",
              "      fill: #174EA6;\n",
              "    }\n",
              "\n",
              "    .colab-df-buttons div {\n",
              "      margin-bottom: 4px;\n",
              "    }\n",
              "\n",
              "    [theme=dark] .colab-df-convert {\n",
              "      background-color: #3B4455;\n",
              "      fill: #D2E3FC;\n",
              "    }\n",
              "\n",
              "    [theme=dark] .colab-df-convert:hover {\n",
              "      background-color: #434B5C;\n",
              "      box-shadow: 0px 1px 3px 1px rgba(0, 0, 0, 0.15);\n",
              "      filter: drop-shadow(0px 1px 2px rgba(0, 0, 0, 0.3));\n",
              "      fill: #FFFFFF;\n",
              "    }\n",
              "  </style>\n",
              "\n",
              "    <script>\n",
              "      const buttonEl =\n",
              "        document.querySelector('#df-5a2a5a76-3e99-46ad-9af7-09d697b12002 button.colab-df-convert');\n",
              "      buttonEl.style.display =\n",
              "        google.colab.kernel.accessAllowed ? 'block' : 'none';\n",
              "\n",
              "      async function convertToInteractive(key) {\n",
              "        const element = document.querySelector('#df-5a2a5a76-3e99-46ad-9af7-09d697b12002');\n",
              "        const dataTable =\n",
              "          await google.colab.kernel.invokeFunction('convertToInteractive',\n",
              "                                                    [key], {});\n",
              "        if (!dataTable) return;\n",
              "\n",
              "        const docLinkHtml = 'Like what you see? Visit the ' +\n",
              "          '<a target=\"_blank\" href=https://colab.research.google.com/notebooks/data_table.ipynb>data table notebook</a>'\n",
              "          + ' to learn more about interactive tables.';\n",
              "        element.innerHTML = '';\n",
              "        dataTable['output_type'] = 'display_data';\n",
              "        await google.colab.output.renderOutput(dataTable, element);\n",
              "        const docLink = document.createElement('div');\n",
              "        docLink.innerHTML = docLinkHtml;\n",
              "        element.appendChild(docLink);\n",
              "      }\n",
              "    </script>\n",
              "  </div>\n",
              "\n",
              "\n",
              "<div id=\"df-4fb431f4-e92e-4030-b4f4-f760f1a3f2dc\">\n",
              "  <button class=\"colab-df-quickchart\" onclick=\"quickchart('df-4fb431f4-e92e-4030-b4f4-f760f1a3f2dc')\"\n",
              "            title=\"Suggest charts\"\n",
              "            style=\"display:none;\">\n",
              "\n",
              "<svg xmlns=\"http://www.w3.org/2000/svg\" height=\"24px\"viewBox=\"0 0 24 24\"\n",
              "     width=\"24px\">\n",
              "    <g>\n",
              "        <path d=\"M19 3H5c-1.1 0-2 .9-2 2v14c0 1.1.9 2 2 2h14c1.1 0 2-.9 2-2V5c0-1.1-.9-2-2-2zM9 17H7v-7h2v7zm4 0h-2V7h2v10zm4 0h-2v-4h2v4z\"/>\n",
              "    </g>\n",
              "</svg>\n",
              "  </button>\n",
              "\n",
              "<style>\n",
              "  .colab-df-quickchart {\n",
              "      --bg-color: #E8F0FE;\n",
              "      --fill-color: #1967D2;\n",
              "      --hover-bg-color: #E2EBFA;\n",
              "      --hover-fill-color: #174EA6;\n",
              "      --disabled-fill-color: #AAA;\n",
              "      --disabled-bg-color: #DDD;\n",
              "  }\n",
              "\n",
              "  [theme=dark] .colab-df-quickchart {\n",
              "      --bg-color: #3B4455;\n",
              "      --fill-color: #D2E3FC;\n",
              "      --hover-bg-color: #434B5C;\n",
              "      --hover-fill-color: #FFFFFF;\n",
              "      --disabled-bg-color: #3B4455;\n",
              "      --disabled-fill-color: #666;\n",
              "  }\n",
              "\n",
              "  .colab-df-quickchart {\n",
              "    background-color: var(--bg-color);\n",
              "    border: none;\n",
              "    border-radius: 50%;\n",
              "    cursor: pointer;\n",
              "    display: none;\n",
              "    fill: var(--fill-color);\n",
              "    height: 32px;\n",
              "    padding: 0;\n",
              "    width: 32px;\n",
              "  }\n",
              "\n",
              "  .colab-df-quickchart:hover {\n",
              "    background-color: var(--hover-bg-color);\n",
              "    box-shadow: 0 1px 2px rgba(60, 64, 67, 0.3), 0 1px 3px 1px rgba(60, 64, 67, 0.15);\n",
              "    fill: var(--button-hover-fill-color);\n",
              "  }\n",
              "\n",
              "  .colab-df-quickchart-complete:disabled,\n",
              "  .colab-df-quickchart-complete:disabled:hover {\n",
              "    background-color: var(--disabled-bg-color);\n",
              "    fill: var(--disabled-fill-color);\n",
              "    box-shadow: none;\n",
              "  }\n",
              "\n",
              "  .colab-df-spinner {\n",
              "    border: 2px solid var(--fill-color);\n",
              "    border-color: transparent;\n",
              "    border-bottom-color: var(--fill-color);\n",
              "    animation:\n",
              "      spin 1s steps(1) infinite;\n",
              "  }\n",
              "\n",
              "  @keyframes spin {\n",
              "    0% {\n",
              "      border-color: transparent;\n",
              "      border-bottom-color: var(--fill-color);\n",
              "      border-left-color: var(--fill-color);\n",
              "    }\n",
              "    20% {\n",
              "      border-color: transparent;\n",
              "      border-left-color: var(--fill-color);\n",
              "      border-top-color: var(--fill-color);\n",
              "    }\n",
              "    30% {\n",
              "      border-color: transparent;\n",
              "      border-left-color: var(--fill-color);\n",
              "      border-top-color: var(--fill-color);\n",
              "      border-right-color: var(--fill-color);\n",
              "    }\n",
              "    40% {\n",
              "      border-color: transparent;\n",
              "      border-right-color: var(--fill-color);\n",
              "      border-top-color: var(--fill-color);\n",
              "    }\n",
              "    60% {\n",
              "      border-color: transparent;\n",
              "      border-right-color: var(--fill-color);\n",
              "    }\n",
              "    80% {\n",
              "      border-color: transparent;\n",
              "      border-right-color: var(--fill-color);\n",
              "      border-bottom-color: var(--fill-color);\n",
              "    }\n",
              "    90% {\n",
              "      border-color: transparent;\n",
              "      border-bottom-color: var(--fill-color);\n",
              "    }\n",
              "  }\n",
              "</style>\n",
              "\n",
              "  <script>\n",
              "    async function quickchart(key) {\n",
              "      const quickchartButtonEl =\n",
              "        document.querySelector('#' + key + ' button');\n",
              "      quickchartButtonEl.disabled = true;  // To prevent multiple clicks.\n",
              "      quickchartButtonEl.classList.add('colab-df-spinner');\n",
              "      try {\n",
              "        const charts = await google.colab.kernel.invokeFunction(\n",
              "            'suggestCharts', [key], {});\n",
              "      } catch (error) {\n",
              "        console.error('Error during call to suggestCharts:', error);\n",
              "      }\n",
              "      quickchartButtonEl.classList.remove('colab-df-spinner');\n",
              "      quickchartButtonEl.classList.add('colab-df-quickchart-complete');\n",
              "    }\n",
              "    (() => {\n",
              "      let quickchartButtonEl =\n",
              "        document.querySelector('#df-4fb431f4-e92e-4030-b4f4-f760f1a3f2dc button');\n",
              "      quickchartButtonEl.style.display =\n",
              "        google.colab.kernel.accessAllowed ? 'block' : 'none';\n",
              "    })();\n",
              "  </script>\n",
              "</div>\n",
              "    </div>\n",
              "  </div>\n"
            ]
          },
          "metadata": {},
          "execution_count": 13
        }
      ],
      "source": [
        "df.head()"
      ]
    },
    {
      "cell_type": "markdown",
      "metadata": {
        "id": "2904AVZxfXI3"
      },
      "source": [
        "# lower case"
      ]
    },
    {
      "cell_type": "markdown",
      "source": [
        "###### for any movie havinng only different forat of writing will be considera new movie making separate entities."
      ],
      "metadata": {
        "id": "isgTqHyoP7MQ"
      }
    },
    {
      "cell_type": "code",
      "execution_count": 15,
      "metadata": {
        "execution": {
          "iopub.execute_input": "2021-12-31T06:31:46.622825Z",
          "iopub.status.busy": "2021-12-31T06:31:46.622155Z",
          "iopub.status.idle": "2021-12-31T06:31:46.631721Z",
          "shell.execute_reply": "2021-12-31T06:31:46.631006Z",
          "shell.execute_reply.started": "2021-12-31T06:31:46.622784Z"
        },
        "colab": {
          "base_uri": "https://localhost:8080/",
          "height": 122
        },
        "id": "GmzqPSelfXI_",
        "outputId": "ef42c9ca-bbb2-4944-e099-e420199d230f"
      },
      "outputs": [
        {
          "output_type": "execute_result",
          "data": {
            "text/plain": [
              "\"Basically there's a family where a little boy (Jake) thinks there's a zombie in his closet & his parents are fighting all the time.<br /><br />This movie is slower than a soap opera... and suddenly, Jake decides to become Rambo and kill the zombie.<br /><br />OK, first of all when you're going to make a film you must Decide if its a thriller or a drama! As a drama the movie is watchable. Parents are divorcing & arguing like in real life. And then we have Jake with his closet which totally ruins all the film! I expected to see a BOOGEYMAN similar movie, and instead i watched a drama with some meaningless thriller spots.<br /><br />3 out of 10 just for the well playing parents & descent dialogs. As for the shots with Jake: just ignore them.\""
            ],
            "application/vnd.google.colaboratory.intrinsic+json": {
              "type": "string"
            }
          },
          "metadata": {},
          "execution_count": 15
        }
      ],
      "source": [
        "df['review'][3]\n"
      ]
    },
    {
      "cell_type": "code",
      "execution_count": 18,
      "metadata": {
        "execution": {
          "iopub.execute_input": "2021-12-31T06:31:47.787087Z",
          "iopub.status.busy": "2021-12-31T06:31:47.786303Z",
          "iopub.status.idle": "2021-12-31T06:31:47.951308Z",
          "shell.execute_reply": "2021-12-31T06:31:47.950466Z",
          "shell.execute_reply.started": "2021-12-31T06:31:47.787050Z"
        },
        "id": "i89hq6VMfXJB"
      },
      "outputs": [],
      "source": [
        "df['review'] = df['review'].str.lower()\n",
        "#permamtetly changing data in the whole column"
      ]
    },
    {
      "cell_type": "code",
      "execution_count": 19,
      "metadata": {
        "execution": {
          "iopub.execute_input": "2021-12-31T06:31:49.128530Z",
          "iopub.status.busy": "2021-12-31T06:31:49.128210Z",
          "iopub.status.idle": "2021-12-31T06:31:49.139811Z",
          "shell.execute_reply": "2021-12-31T06:31:49.139029Z",
          "shell.execute_reply.started": "2021-12-31T06:31:49.128496Z"
        },
        "colab": {
          "base_uri": "https://localhost:8080/",
          "height": 423
        },
        "id": "glDKwJu4fXJC",
        "outputId": "78e910b3-95c5-4573-bc4e-4cdee706cbb3"
      },
      "outputs": [
        {
          "output_type": "execute_result",
          "data": {
            "text/plain": [
              "                                               review sentiment\n",
              "0   one of the other reviewers has mentioned that ...  positive\n",
              "1   a wonderful little production. <br /><br />the...  positive\n",
              "2   i thought this was a wonderful way to spend ti...  positive\n",
              "3   basically there's a family where a little boy ...  negative\n",
              "4   petter mattei's \"love in the time of money\" is...  positive\n",
              "..                                                ...       ...\n",
              "95  daniel day-lewis is the most versatile actor a...  positive\n",
              "96  my guess would be this was originally going to...  negative\n",
              "97  well, i like to watch bad horror b-movies, cau...  negative\n",
              "98  this is the worst movie i have ever seen, as w...  negative\n",
              "99  i have been a mario fan for as long as i can r...  positive\n",
              "\n",
              "[100 rows x 2 columns]"
            ],
            "text/html": [
              "\n",
              "  <div id=\"df-1b17c7b7-b595-413e-89ce-840ef8bfe0a8\" class=\"colab-df-container\">\n",
              "    <div>\n",
              "<style scoped>\n",
              "    .dataframe tbody tr th:only-of-type {\n",
              "        vertical-align: middle;\n",
              "    }\n",
              "\n",
              "    .dataframe tbody tr th {\n",
              "        vertical-align: top;\n",
              "    }\n",
              "\n",
              "    .dataframe thead th {\n",
              "        text-align: right;\n",
              "    }\n",
              "</style>\n",
              "<table border=\"1\" class=\"dataframe\">\n",
              "  <thead>\n",
              "    <tr style=\"text-align: right;\">\n",
              "      <th></th>\n",
              "      <th>review</th>\n",
              "      <th>sentiment</th>\n",
              "    </tr>\n",
              "  </thead>\n",
              "  <tbody>\n",
              "    <tr>\n",
              "      <th>0</th>\n",
              "      <td>one of the other reviewers has mentioned that ...</td>\n",
              "      <td>positive</td>\n",
              "    </tr>\n",
              "    <tr>\n",
              "      <th>1</th>\n",
              "      <td>a wonderful little production. &lt;br /&gt;&lt;br /&gt;the...</td>\n",
              "      <td>positive</td>\n",
              "    </tr>\n",
              "    <tr>\n",
              "      <th>2</th>\n",
              "      <td>i thought this was a wonderful way to spend ti...</td>\n",
              "      <td>positive</td>\n",
              "    </tr>\n",
              "    <tr>\n",
              "      <th>3</th>\n",
              "      <td>basically there's a family where a little boy ...</td>\n",
              "      <td>negative</td>\n",
              "    </tr>\n",
              "    <tr>\n",
              "      <th>4</th>\n",
              "      <td>petter mattei's \"love in the time of money\" is...</td>\n",
              "      <td>positive</td>\n",
              "    </tr>\n",
              "    <tr>\n",
              "      <th>...</th>\n",
              "      <td>...</td>\n",
              "      <td>...</td>\n",
              "    </tr>\n",
              "    <tr>\n",
              "      <th>95</th>\n",
              "      <td>daniel day-lewis is the most versatile actor a...</td>\n",
              "      <td>positive</td>\n",
              "    </tr>\n",
              "    <tr>\n",
              "      <th>96</th>\n",
              "      <td>my guess would be this was originally going to...</td>\n",
              "      <td>negative</td>\n",
              "    </tr>\n",
              "    <tr>\n",
              "      <th>97</th>\n",
              "      <td>well, i like to watch bad horror b-movies, cau...</td>\n",
              "      <td>negative</td>\n",
              "    </tr>\n",
              "    <tr>\n",
              "      <th>98</th>\n",
              "      <td>this is the worst movie i have ever seen, as w...</td>\n",
              "      <td>negative</td>\n",
              "    </tr>\n",
              "    <tr>\n",
              "      <th>99</th>\n",
              "      <td>i have been a mario fan for as long as i can r...</td>\n",
              "      <td>positive</td>\n",
              "    </tr>\n",
              "  </tbody>\n",
              "</table>\n",
              "<p>100 rows × 2 columns</p>\n",
              "</div>\n",
              "    <div class=\"colab-df-buttons\">\n",
              "\n",
              "  <div class=\"colab-df-container\">\n",
              "    <button class=\"colab-df-convert\" onclick=\"convertToInteractive('df-1b17c7b7-b595-413e-89ce-840ef8bfe0a8')\"\n",
              "            title=\"Convert this dataframe to an interactive table.\"\n",
              "            style=\"display:none;\">\n",
              "\n",
              "  <svg xmlns=\"http://www.w3.org/2000/svg\" height=\"24px\" viewBox=\"0 -960 960 960\">\n",
              "    <path d=\"M120-120v-720h720v720H120Zm60-500h600v-160H180v160Zm220 220h160v-160H400v160Zm0 220h160v-160H400v160ZM180-400h160v-160H180v160Zm440 0h160v-160H620v160ZM180-180h160v-160H180v160Zm440 0h160v-160H620v160Z\"/>\n",
              "  </svg>\n",
              "    </button>\n",
              "\n",
              "  <style>\n",
              "    .colab-df-container {\n",
              "      display:flex;\n",
              "      gap: 12px;\n",
              "    }\n",
              "\n",
              "    .colab-df-convert {\n",
              "      background-color: #E8F0FE;\n",
              "      border: none;\n",
              "      border-radius: 50%;\n",
              "      cursor: pointer;\n",
              "      display: none;\n",
              "      fill: #1967D2;\n",
              "      height: 32px;\n",
              "      padding: 0 0 0 0;\n",
              "      width: 32px;\n",
              "    }\n",
              "\n",
              "    .colab-df-convert:hover {\n",
              "      background-color: #E2EBFA;\n",
              "      box-shadow: 0px 1px 2px rgba(60, 64, 67, 0.3), 0px 1px 3px 1px rgba(60, 64, 67, 0.15);\n",
              "      fill: #174EA6;\n",
              "    }\n",
              "\n",
              "    .colab-df-buttons div {\n",
              "      margin-bottom: 4px;\n",
              "    }\n",
              "\n",
              "    [theme=dark] .colab-df-convert {\n",
              "      background-color: #3B4455;\n",
              "      fill: #D2E3FC;\n",
              "    }\n",
              "\n",
              "    [theme=dark] .colab-df-convert:hover {\n",
              "      background-color: #434B5C;\n",
              "      box-shadow: 0px 1px 3px 1px rgba(0, 0, 0, 0.15);\n",
              "      filter: drop-shadow(0px 1px 2px rgba(0, 0, 0, 0.3));\n",
              "      fill: #FFFFFF;\n",
              "    }\n",
              "  </style>\n",
              "\n",
              "    <script>\n",
              "      const buttonEl =\n",
              "        document.querySelector('#df-1b17c7b7-b595-413e-89ce-840ef8bfe0a8 button.colab-df-convert');\n",
              "      buttonEl.style.display =\n",
              "        google.colab.kernel.accessAllowed ? 'block' : 'none';\n",
              "\n",
              "      async function convertToInteractive(key) {\n",
              "        const element = document.querySelector('#df-1b17c7b7-b595-413e-89ce-840ef8bfe0a8');\n",
              "        const dataTable =\n",
              "          await google.colab.kernel.invokeFunction('convertToInteractive',\n",
              "                                                    [key], {});\n",
              "        if (!dataTable) return;\n",
              "\n",
              "        const docLinkHtml = 'Like what you see? Visit the ' +\n",
              "          '<a target=\"_blank\" href=https://colab.research.google.com/notebooks/data_table.ipynb>data table notebook</a>'\n",
              "          + ' to learn more about interactive tables.';\n",
              "        element.innerHTML = '';\n",
              "        dataTable['output_type'] = 'display_data';\n",
              "        await google.colab.output.renderOutput(dataTable, element);\n",
              "        const docLink = document.createElement('div');\n",
              "        docLink.innerHTML = docLinkHtml;\n",
              "        element.appendChild(docLink);\n",
              "      }\n",
              "    </script>\n",
              "  </div>\n",
              "\n",
              "\n",
              "<div id=\"df-7d1ba458-8a8f-4a05-a994-f2d7a422becc\">\n",
              "  <button class=\"colab-df-quickchart\" onclick=\"quickchart('df-7d1ba458-8a8f-4a05-a994-f2d7a422becc')\"\n",
              "            title=\"Suggest charts\"\n",
              "            style=\"display:none;\">\n",
              "\n",
              "<svg xmlns=\"http://www.w3.org/2000/svg\" height=\"24px\"viewBox=\"0 0 24 24\"\n",
              "     width=\"24px\">\n",
              "    <g>\n",
              "        <path d=\"M19 3H5c-1.1 0-2 .9-2 2v14c0 1.1.9 2 2 2h14c1.1 0 2-.9 2-2V5c0-1.1-.9-2-2-2zM9 17H7v-7h2v7zm4 0h-2V7h2v10zm4 0h-2v-4h2v4z\"/>\n",
              "    </g>\n",
              "</svg>\n",
              "  </button>\n",
              "\n",
              "<style>\n",
              "  .colab-df-quickchart {\n",
              "      --bg-color: #E8F0FE;\n",
              "      --fill-color: #1967D2;\n",
              "      --hover-bg-color: #E2EBFA;\n",
              "      --hover-fill-color: #174EA6;\n",
              "      --disabled-fill-color: #AAA;\n",
              "      --disabled-bg-color: #DDD;\n",
              "  }\n",
              "\n",
              "  [theme=dark] .colab-df-quickchart {\n",
              "      --bg-color: #3B4455;\n",
              "      --fill-color: #D2E3FC;\n",
              "      --hover-bg-color: #434B5C;\n",
              "      --hover-fill-color: #FFFFFF;\n",
              "      --disabled-bg-color: #3B4455;\n",
              "      --disabled-fill-color: #666;\n",
              "  }\n",
              "\n",
              "  .colab-df-quickchart {\n",
              "    background-color: var(--bg-color);\n",
              "    border: none;\n",
              "    border-radius: 50%;\n",
              "    cursor: pointer;\n",
              "    display: none;\n",
              "    fill: var(--fill-color);\n",
              "    height: 32px;\n",
              "    padding: 0;\n",
              "    width: 32px;\n",
              "  }\n",
              "\n",
              "  .colab-df-quickchart:hover {\n",
              "    background-color: var(--hover-bg-color);\n",
              "    box-shadow: 0 1px 2px rgba(60, 64, 67, 0.3), 0 1px 3px 1px rgba(60, 64, 67, 0.15);\n",
              "    fill: var(--button-hover-fill-color);\n",
              "  }\n",
              "\n",
              "  .colab-df-quickchart-complete:disabled,\n",
              "  .colab-df-quickchart-complete:disabled:hover {\n",
              "    background-color: var(--disabled-bg-color);\n",
              "    fill: var(--disabled-fill-color);\n",
              "    box-shadow: none;\n",
              "  }\n",
              "\n",
              "  .colab-df-spinner {\n",
              "    border: 2px solid var(--fill-color);\n",
              "    border-color: transparent;\n",
              "    border-bottom-color: var(--fill-color);\n",
              "    animation:\n",
              "      spin 1s steps(1) infinite;\n",
              "  }\n",
              "\n",
              "  @keyframes spin {\n",
              "    0% {\n",
              "      border-color: transparent;\n",
              "      border-bottom-color: var(--fill-color);\n",
              "      border-left-color: var(--fill-color);\n",
              "    }\n",
              "    20% {\n",
              "      border-color: transparent;\n",
              "      border-left-color: var(--fill-color);\n",
              "      border-top-color: var(--fill-color);\n",
              "    }\n",
              "    30% {\n",
              "      border-color: transparent;\n",
              "      border-left-color: var(--fill-color);\n",
              "      border-top-color: var(--fill-color);\n",
              "      border-right-color: var(--fill-color);\n",
              "    }\n",
              "    40% {\n",
              "      border-color: transparent;\n",
              "      border-right-color: var(--fill-color);\n",
              "      border-top-color: var(--fill-color);\n",
              "    }\n",
              "    60% {\n",
              "      border-color: transparent;\n",
              "      border-right-color: var(--fill-color);\n",
              "    }\n",
              "    80% {\n",
              "      border-color: transparent;\n",
              "      border-right-color: var(--fill-color);\n",
              "      border-bottom-color: var(--fill-color);\n",
              "    }\n",
              "    90% {\n",
              "      border-color: transparent;\n",
              "      border-bottom-color: var(--fill-color);\n",
              "    }\n",
              "  }\n",
              "</style>\n",
              "\n",
              "  <script>\n",
              "    async function quickchart(key) {\n",
              "      const quickchartButtonEl =\n",
              "        document.querySelector('#' + key + ' button');\n",
              "      quickchartButtonEl.disabled = true;  // To prevent multiple clicks.\n",
              "      quickchartButtonEl.classList.add('colab-df-spinner');\n",
              "      try {\n",
              "        const charts = await google.colab.kernel.invokeFunction(\n",
              "            'suggestCharts', [key], {});\n",
              "      } catch (error) {\n",
              "        console.error('Error during call to suggestCharts:', error);\n",
              "      }\n",
              "      quickchartButtonEl.classList.remove('colab-df-spinner');\n",
              "      quickchartButtonEl.classList.add('colab-df-quickchart-complete');\n",
              "    }\n",
              "    (() => {\n",
              "      let quickchartButtonEl =\n",
              "        document.querySelector('#df-7d1ba458-8a8f-4a05-a994-f2d7a422becc button');\n",
              "      quickchartButtonEl.style.display =\n",
              "        google.colab.kernel.accessAllowed ? 'block' : 'none';\n",
              "    })();\n",
              "  </script>\n",
              "</div>\n",
              "\n",
              "  <div id=\"id_fda2d246-aed0-41d0-8ea8-c2d112bf1eba\">\n",
              "    <style>\n",
              "      .colab-df-generate {\n",
              "        background-color: #E8F0FE;\n",
              "        border: none;\n",
              "        border-radius: 50%;\n",
              "        cursor: pointer;\n",
              "        display: none;\n",
              "        fill: #1967D2;\n",
              "        height: 32px;\n",
              "        padding: 0 0 0 0;\n",
              "        width: 32px;\n",
              "      }\n",
              "\n",
              "      .colab-df-generate:hover {\n",
              "        background-color: #E2EBFA;\n",
              "        box-shadow: 0px 1px 2px rgba(60, 64, 67, 0.3), 0px 1px 3px 1px rgba(60, 64, 67, 0.15);\n",
              "        fill: #174EA6;\n",
              "      }\n",
              "\n",
              "      [theme=dark] .colab-df-generate {\n",
              "        background-color: #3B4455;\n",
              "        fill: #D2E3FC;\n",
              "      }\n",
              "\n",
              "      [theme=dark] .colab-df-generate:hover {\n",
              "        background-color: #434B5C;\n",
              "        box-shadow: 0px 1px 3px 1px rgba(0, 0, 0, 0.15);\n",
              "        filter: drop-shadow(0px 1px 2px rgba(0, 0, 0, 0.3));\n",
              "        fill: #FFFFFF;\n",
              "      }\n",
              "    </style>\n",
              "    <button class=\"colab-df-generate\" onclick=\"generateWithVariable('df')\"\n",
              "            title=\"Generate code using this dataframe.\"\n",
              "            style=\"display:none;\">\n",
              "\n",
              "  <svg xmlns=\"http://www.w3.org/2000/svg\" height=\"24px\"viewBox=\"0 0 24 24\"\n",
              "       width=\"24px\">\n",
              "    <path d=\"M7,19H8.4L18.45,9,17,7.55,7,17.6ZM5,21V16.75L18.45,3.32a2,2,0,0,1,2.83,0l1.4,1.43a1.91,1.91,0,0,1,.58,1.4,1.91,1.91,0,0,1-.58,1.4L9.25,21ZM18.45,9,17,7.55Zm-12,3A5.31,5.31,0,0,0,4.9,8.1,5.31,5.31,0,0,0,1,6.5,5.31,5.31,0,0,0,4.9,4.9,5.31,5.31,0,0,0,6.5,1,5.31,5.31,0,0,0,8.1,4.9,5.31,5.31,0,0,0,12,6.5,5.46,5.46,0,0,0,6.5,12Z\"/>\n",
              "  </svg>\n",
              "    </button>\n",
              "    <script>\n",
              "      (() => {\n",
              "      const buttonEl =\n",
              "        document.querySelector('#id_fda2d246-aed0-41d0-8ea8-c2d112bf1eba button.colab-df-generate');\n",
              "      buttonEl.style.display =\n",
              "        google.colab.kernel.accessAllowed ? 'block' : 'none';\n",
              "\n",
              "      buttonEl.onclick = () => {\n",
              "        google.colab.notebook.generateWithVariable('df');\n",
              "      }\n",
              "      })();\n",
              "    </script>\n",
              "  </div>\n",
              "\n",
              "    </div>\n",
              "  </div>\n"
            ],
            "application/vnd.google.colaboratory.intrinsic+json": {
              "type": "dataframe",
              "variable_name": "df",
              "summary": "{\n  \"name\": \"df\",\n  \"rows\": 100,\n  \"fields\": [\n    {\n      \"column\": \"review\",\n      \"properties\": {\n        \"dtype\": \"string\",\n        \"num_unique_values\": 100,\n        \"samples\": [\n          \"\\\"fate\\\" leads walter sparrow to come in possession of a mysterious novel that has eerie similarities and connections to his life, all based around the number 23. as the story unfolds in real life and fiction, sparrow must figure out his connection to the book and how the story will eventually end.<br /><br />the number 23 offers an intriguing premise that is undone by a weak execution. the film just failed on many different levels which is pretty disappointing because it held so much potential. the screenplay was probably the worst part about it. it was filled with silly sequences and laughable dialog that just killed the mood of the movie. it seemed like the screenwriter had a good idea, he just didn't know how to develop it to stretch over a ninety minute running time. the second half of the film was running low on ideas, the twist was pretty obvious and the ending was awful.<br /><br />joel schumacher is responsible for one of the worst movies ever and he did redeem himself a little with phone booth and a few other films but the number 23 reminds me that he's still capable of making a stinker. he has the movie drenched in style but he just can't get a good focus. he moves the film at a clunky and slow pace. he switches from reality to what's actually happening in the book which quickly got annoying. the actual book in the film that's titled \\\"the number 23\\\" is an awful detective story and the audience gets stuck listening to carrey narrate it which just bored me to tears. when carrey is finally done with book, we get stuck watching him run around trying to solve the mystery. at this point, the audience has lost interest and there is no real tension. we impatiently wait for the movie to reach it's horrible ending and unconvincing explanation before celebrating that film has finally finished.<br /><br />the acting was mostly average and pretty forgettable. jim carrey was clearly just sleepwalking through his performance and he didn't even seem to be trying. he was either completely over the top in some scenes or just very wooden. his narration was a complete bore to listen to and he put no life inside his character. virginia madsen did the best she could with a limited role but she needs to pick better scripts. logan lerman was pretty bland as was danny huston. overall, the number 23 was an awful thriller that offered more laughs than suspense or thrills. rating 3/10\",\n          \"i cannot believe i enjoyed this as much as i did. the anthology stories were better than par, but the linking story and its surprise ending hooked me. alot of familiar faces will keep you asking yourself \\\"where i have i seen them before?\\\" forget the running time listed on new line's tape, this ain't no 103 minutes, according to my vcr timer and imdb. space maggot douses the campfire in his own special way and hikes this an 8.\",\n          \"caddyshack two is a good movie by itself but compared to the original it cant stack up. robert stack is a horrible replacement for ted knight and jackie mason, while funny just cant compete with rodney dangerfield. ty webb is funny, being the only character from the original. most of the other characters in the movie lack the punch of the original (henry wilcoxon for example) except for the hystericly funny lawyer peter blunt, being played by randy quaid. every line he says reminds me of the originals humor, especially the scene at his office (i don't go in for law suits or motions. i find out where you live and come to your house and beat down your door with a f***ing baseball bat, make a bonfire with the chippindale,maybe roast that golden retriever (arff arff arff) then eat it. and then i'm comin' upstairs junior, and i'm grabbing you by your brooks brothers pjs, and cramming your brand new bmw up your tight a**! do we have an understanding?). offsetting his small role however, is dan acroyd, who is obviously no replacement for bill murray. his voice is beyond irritating and everything he does isnt even funny, its just stupid. overall caddyshack ii is a good movie, but in comparison to the awesome original it just cant cut it.\"\n        ],\n        \"semantic_type\": \"\",\n        \"description\": \"\"\n      }\n    },\n    {\n      \"column\": \"sentiment\",\n      \"properties\": {\n        \"dtype\": \"category\",\n        \"num_unique_values\": 2,\n        \"samples\": [\n          \"negative\",\n          \"positive\"\n        ],\n        \"semantic_type\": \"\",\n        \"description\": \"\"\n      }\n    }\n  ]\n}"
            }
          },
          "metadata": {},
          "execution_count": 19
        }
      ],
      "source": [
        "df"
      ]
    },
    {
      "cell_type": "code",
      "source": [
        "df['review'][3]"
      ],
      "metadata": {
        "colab": {
          "base_uri": "https://localhost:8080/",
          "height": 139
        },
        "id": "Qw-VymfykdQg",
        "outputId": "c08539d4-c8f8-450c-a678-f7e0564a3937"
      },
      "execution_count": null,
      "outputs": [
        {
          "output_type": "execute_result",
          "data": {
            "text/plain": [
              "\"basically there's a family where a little boy (jake) thinks there's a zombie in his closet & his parents are fighting all the time.<br /><br />this movie is slower than a soap opera... and suddenly, jake decides to become rambo and kill the zombie.<br /><br />ok, first of all when you're going to make a film you must decide if its a thriller or a drama! as a drama the movie is watchable. parents are divorcing & arguing like in real life. and then we have jake with his closet which totally ruins all the film! i expected to see a boogeyman similar movie, and instead i watched a drama with some meaningless thriller spots.<br /><br />3 out of 10 just for the well playing parents & descent dialogs. as for the shots with jake: just ignore them.\""
            ],
            "application/vnd.google.colaboratory.intrinsic+json": {
              "type": "string"
            }
          },
          "metadata": {},
          "execution_count": 17
        }
      ]
    },
    {
      "cell_type": "markdown",
      "metadata": {
        "id": "q6PdP4pvfXJD"
      },
      "source": [
        "# remove_html_tags"
      ]
    },
    {
      "cell_type": "code",
      "execution_count": 20,
      "metadata": {
        "execution": {
          "iopub.execute_input": "2021-12-31T06:31:50.312485Z",
          "iopub.status.busy": "2021-12-31T06:31:50.311881Z",
          "iopub.status.idle": "2021-12-31T06:31:50.317355Z",
          "shell.execute_reply": "2021-12-31T06:31:50.316605Z",
          "shell.execute_reply.started": "2021-12-31T06:31:50.312441Z"
        },
        "id": "TJBPXPKffXJE"
      },
      "outputs": [],
      "source": [
        "import re\n",
        "def remove_html_tags(text):\n",
        "    pattern = re.compile('<.*?>')\n",
        "    return pattern.sub(r'', text)\n",
        "\n",
        "#replaceing all the tags present into emty space"
      ]
    },
    {
      "cell_type": "code",
      "execution_count": 21,
      "metadata": {
        "execution": {
          "iopub.execute_input": "2021-12-31T06:31:51.213645Z",
          "iopub.status.busy": "2021-12-31T06:31:51.212983Z",
          "iopub.status.idle": "2021-12-31T06:31:51.217270Z",
          "shell.execute_reply": "2021-12-31T06:31:51.216678Z",
          "shell.execute_reply.started": "2021-12-31T06:31:51.213613Z"
        },
        "id": "ULnX84uNfXJE"
      },
      "outputs": [],
      "source": [
        "text = \"<html><body><p> Movie 1</p><p> Actor - Aamir Khan</p><p> Click here to <a href='http://google.com'>download</a></p></body></html>\""
      ]
    },
    {
      "cell_type": "code",
      "execution_count": 22,
      "metadata": {
        "execution": {
          "iopub.execute_input": "2021-12-31T06:31:52.830688Z",
          "iopub.status.busy": "2021-12-31T06:31:52.830402Z",
          "iopub.status.idle": "2021-12-31T06:31:52.836008Z",
          "shell.execute_reply": "2021-12-31T06:31:52.835403Z",
          "shell.execute_reply.started": "2021-12-31T06:31:52.830656Z"
        },
        "colab": {
          "base_uri": "https://localhost:8080/",
          "height": 35
        },
        "id": "qNvDbZB0fXJF",
        "outputId": "75ac92c9-bb29-433b-afa7-4c5279f0c6ac"
      },
      "outputs": [
        {
          "output_type": "execute_result",
          "data": {
            "text/plain": [
              "' Movie 1 Actor - Aamir Khan Click here to download'"
            ],
            "application/vnd.google.colaboratory.intrinsic+json": {
              "type": "string"
            }
          },
          "metadata": {},
          "execution_count": 22
        }
      ],
      "source": [
        "remove_html_tags(text)"
      ]
    },
    {
      "cell_type": "code",
      "execution_count": 23,
      "metadata": {
        "execution": {
          "iopub.execute_input": "2021-12-31T06:31:56.044835Z",
          "iopub.status.busy": "2021-12-31T06:31:56.044290Z",
          "iopub.status.idle": "2021-12-31T06:31:56.261722Z",
          "shell.execute_reply": "2021-12-31T06:31:56.260834Z",
          "shell.execute_reply.started": "2021-12-31T06:31:56.044797Z"
        },
        "id": "yC7UIrYBfXJF"
      },
      "outputs": [],
      "source": [
        "df['review'] = df['review'].apply(remove_html_tags)\n",
        "#will apply '''remove_html_tage()''' will remove the all thetags present inbetween\n",
        "#present in column data set"
      ]
    },
    {
      "cell_type": "code",
      "execution_count": 25,
      "metadata": {
        "execution": {
          "iopub.execute_input": "2021-12-31T06:31:57.128227Z",
          "iopub.status.busy": "2021-12-31T06:31:57.127915Z",
          "iopub.status.idle": "2021-12-31T06:31:57.135752Z",
          "shell.execute_reply": "2021-12-31T06:31:57.134890Z",
          "shell.execute_reply.started": "2021-12-31T06:31:57.128194Z"
        },
        "colab": {
          "base_uri": "https://localhost:8080/",
          "height": 139
        },
        "id": "8dC4Wn-CfXJG",
        "outputId": "16c998ce-acaa-4bb7-c731-508c1a6fe508"
      },
      "outputs": [
        {
          "output_type": "execute_result",
          "data": {
            "text/plain": [
              "\"this show was an amazing, fresh & innovative idea in the 70's when it first aired. the first 7 or 8 years were brilliant, but things dropped off after that. by 1990, the show was not really funny anymore, and it's continued its decline further to the complete waste of time it is today.it's truly disgraceful how far this show has fallen. the writing is painfully bad, the performances are almost as bad - if not for the mildly entertaining respite of the guest-hosts, this show probably wouldn't still be on the air. i find it so hard to believe that the same creator that hand-selected the original cast also chose the band of hacks that followed. how can one recognize such brilliance and then see fit to replace it with such mediocrity? i felt i must give 2 stars out of respect for the original cast that made this show such a huge success. as it is now, the show is just awful. i can't believe it's still on the air.\""
            ],
            "application/vnd.google.colaboratory.intrinsic+json": {
              "type": "string"
            }
          },
          "metadata": {},
          "execution_count": 25
        }
      ],
      "source": [
        "df['review'][7]"
      ]
    },
    {
      "cell_type": "markdown",
      "metadata": {
        "id": "UdMkoipYfXJG"
      },
      "source": [
        "# remove_url"
      ]
    },
    {
      "cell_type": "code",
      "execution_count": 26,
      "metadata": {
        "execution": {
          "iopub.execute_input": "2021-12-31T06:31:59.535009Z",
          "iopub.status.busy": "2021-12-31T06:31:59.534577Z",
          "iopub.status.idle": "2021-12-31T06:31:59.538828Z",
          "shell.execute_reply": "2021-12-31T06:31:59.537932Z",
          "shell.execute_reply.started": "2021-12-31T06:31:59.534968Z"
        },
        "id": "3BmkkiKWfXJG"
      },
      "outputs": [],
      "source": [
        "def remove_url(text):\n",
        "    pattern = re.compile(r'https?://\\S+|www\\.\\S+')\n",
        "    return pattern.sub(r'', text)"
      ]
    },
    {
      "cell_type": "code",
      "execution_count": 27,
      "metadata": {
        "execution": {
          "iopub.execute_input": "2021-12-31T06:32:01.777326Z",
          "iopub.status.busy": "2021-12-31T06:32:01.776896Z",
          "iopub.status.idle": "2021-12-31T06:32:01.782039Z",
          "shell.execute_reply": "2021-12-31T06:32:01.781169Z",
          "shell.execute_reply.started": "2021-12-31T06:32:01.777289Z"
        },
        "id": "M2qrlgUVfXJH"
      },
      "outputs": [],
      "source": [
        "text1 = 'Check out my youtube https://www.youtube.com/dswithbappy dswithbappy'\n",
        "text2 = 'Check out my linkedin https://www.linkedin.com/in/boktiarahmed73/'\n",
        "text3 = 'Google search here www.google.com'\n",
        "text4 = 'For data click https://www.kaggle.com/'"
      ]
    },
    {
      "cell_type": "code",
      "execution_count": 28,
      "metadata": {
        "execution": {
          "iopub.execute_input": "2021-12-31T06:32:13.347025Z",
          "iopub.status.busy": "2021-12-31T06:32:13.346432Z",
          "iopub.status.idle": "2021-12-31T06:32:13.352108Z",
          "shell.execute_reply": "2021-12-31T06:32:13.351556Z",
          "shell.execute_reply.started": "2021-12-31T06:32:13.346979Z"
        },
        "colab": {
          "base_uri": "https://localhost:8080/",
          "height": 35
        },
        "id": "o3wQdDYGfXJI",
        "outputId": "88fdd8cd-686d-4905-f0f4-eb42e01e893d"
      },
      "outputs": [
        {
          "output_type": "execute_result",
          "data": {
            "text/plain": [
              "'Check out my linkedin '"
            ],
            "application/vnd.google.colaboratory.intrinsic+json": {
              "type": "string"
            }
          },
          "metadata": {},
          "execution_count": 28
        }
      ],
      "source": [
        "remove_url(text2)"
      ]
    },
    {
      "cell_type": "markdown",
      "metadata": {
        "id": "NxXTlMd-fXJI"
      },
      "source": [
        "# punctuation handling"
      ]
    },
    {
      "cell_type": "code",
      "execution_count": 29,
      "metadata": {
        "execution": {
          "iopub.execute_input": "2021-12-31T06:32:15.220391Z",
          "iopub.status.busy": "2021-12-31T06:32:15.219430Z",
          "iopub.status.idle": "2021-12-31T06:32:15.226608Z",
          "shell.execute_reply": "2021-12-31T06:32:15.225774Z",
          "shell.execute_reply.started": "2021-12-31T06:32:15.220317Z"
        },
        "colab": {
          "base_uri": "https://localhost:8080/",
          "height": 35
        },
        "id": "9PqZWxf9fXJJ",
        "outputId": "d479c2eb-63c5-4596-e2f4-131670be8ff7"
      },
      "outputs": [
        {
          "output_type": "execute_result",
          "data": {
            "text/plain": [
              "'!\"#$%&\\'()*+,-./:;<=>?@[\\\\]^_`{|}~'"
            ],
            "application/vnd.google.colaboratory.intrinsic+json": {
              "type": "string"
            }
          },
          "metadata": {},
          "execution_count": 29
        }
      ],
      "source": [
        "import string,time\n",
        "string.punctuation"
      ]
    },
    {
      "cell_type": "code",
      "execution_count": 30,
      "metadata": {
        "execution": {
          "iopub.execute_input": "2021-12-31T06:32:17.479876Z",
          "iopub.status.busy": "2021-12-31T06:32:17.479110Z",
          "iopub.status.idle": "2021-12-31T06:32:17.482866Z",
          "shell.execute_reply": "2021-12-31T06:32:17.482313Z",
          "shell.execute_reply.started": "2021-12-31T06:32:17.479840Z"
        },
        "id": "HeyKLJu_fXJJ",
        "colab": {
          "base_uri": "https://localhost:8080/",
          "height": 35
        },
        "outputId": "53868149-c6c2-426b-9da5-a70849c68fdd"
      },
      "outputs": [
        {
          "output_type": "execute_result",
          "data": {
            "text/plain": [
              "'!\"#$%&\\'()*+,-./:;<=>?@[\\\\]^_`{|}~'"
            ],
            "application/vnd.google.colaboratory.intrinsic+json": {
              "type": "string"
            }
          },
          "metadata": {},
          "execution_count": 30
        }
      ],
      "source": [
        "exclude = string.punctuation\n",
        "exclude"
      ]
    },
    {
      "cell_type": "code",
      "execution_count": 31,
      "metadata": {
        "execution": {
          "iopub.execute_input": "2021-12-31T06:32:55.078670Z",
          "iopub.status.busy": "2021-12-31T06:32:55.078307Z",
          "iopub.status.idle": "2021-12-31T06:32:55.083271Z",
          "shell.execute_reply": "2021-12-31T06:32:55.082403Z",
          "shell.execute_reply.started": "2021-12-31T06:32:55.078636Z"
        },
        "id": "KkB59_vLfXJK"
      },
      "outputs": [],
      "source": [
        "def remove_punc(text):\n",
        "    for char in exclude:\n",
        "        text = text.replace(char,'')\n",
        "    return text\n"
      ]
    },
    {
      "cell_type": "code",
      "execution_count": 32,
      "metadata": {
        "execution": {
          "iopub.execute_input": "2021-12-31T06:33:45.243742Z",
          "iopub.status.busy": "2021-12-31T06:33:45.243469Z",
          "iopub.status.idle": "2021-12-31T06:33:45.247986Z",
          "shell.execute_reply": "2021-12-31T06:33:45.247407Z",
          "shell.execute_reply.started": "2021-12-31T06:33:45.243713Z"
        },
        "id": "Xc5SxdEhfXJK"
      },
      "outputs": [],
      "source": [
        "text = 'string. With. Punctuation?'"
      ]
    },
    {
      "cell_type": "code",
      "execution_count": 33,
      "metadata": {
        "execution": {
          "iopub.execute_input": "2021-12-08T11:47:24.652052Z",
          "iopub.status.busy": "2021-12-08T11:47:24.651733Z",
          "iopub.status.idle": "2021-12-08T11:47:24.658283Z",
          "shell.execute_reply": "2021-12-08T11:47:24.65749Z",
          "shell.execute_reply.started": "2021-12-08T11:47:24.652024Z"
        },
        "colab": {
          "base_uri": "https://localhost:8080/"
        },
        "id": "UhFUBAhxfXJK",
        "outputId": "87c0d9be-82c9-433f-b594-7a8a043631f3"
      },
      "outputs": [
        {
          "output_type": "stream",
          "name": "stdout",
          "text": [
            "string With Punctuation\n",
            "20.885467529296875\n"
          ]
        }
      ],
      "source": [
        "start = time.time()\n",
        "print(remove_punc(text))\n",
        "time1 = time.time() - start\n",
        "print(time1*50000)"
      ]
    },
    {
      "cell_type": "markdown",
      "source": [
        "checking between these 2 that\n",
        "the time complexity  function is checking\n"
      ],
      "metadata": {
        "id": "98DLGXpfTpHy"
      }
    },
    {
      "cell_type": "code",
      "execution_count": 37,
      "metadata": {
        "execution": {
          "iopub.execute_input": "2021-12-31T06:35:41.647925Z",
          "iopub.status.busy": "2021-12-31T06:35:41.647652Z",
          "iopub.status.idle": "2021-12-31T06:35:41.652722Z",
          "shell.execute_reply": "2021-12-31T06:35:41.651839Z",
          "shell.execute_reply.started": "2021-12-31T06:35:41.647898Z"
        },
        "id": "mig_Sd1zfXJL"
      },
      "outputs": [],
      "source": [
        "def remove_punc1(text):\n",
        "    return text.translate(str.maketrans('', '', exclude))"
      ]
    },
    {
      "cell_type": "code",
      "execution_count": 35,
      "metadata": {
        "execution": {
          "iopub.execute_input": "2021-12-31T06:35:44.574532Z",
          "iopub.status.busy": "2021-12-31T06:35:44.574025Z",
          "iopub.status.idle": "2021-12-31T06:35:44.579559Z",
          "shell.execute_reply": "2021-12-31T06:35:44.578868Z",
          "shell.execute_reply.started": "2021-12-31T06:35:44.574499Z"
        },
        "colab": {
          "base_uri": "https://localhost:8080/"
        },
        "id": "DPUZ5MmSfXJL",
        "outputId": "4969e011-d9eb-4774-888e-331188e2eaba"
      },
      "outputs": [
        {
          "output_type": "stream",
          "name": "stdout",
          "text": [
            "5.984306335449219\n"
          ]
        }
      ],
      "source": [
        "start = time.time()\n",
        "remove_punc1(text)\n",
        "time2 = time.time() - start\n",
        "print(time2*50000)"
      ]
    },
    {
      "cell_type": "code",
      "execution_count": 36,
      "metadata": {
        "execution": {
          "iopub.execute_input": "2021-12-31T06:35:50.343180Z",
          "iopub.status.busy": "2021-12-31T06:35:50.342776Z",
          "iopub.status.idle": "2021-12-31T06:35:50.411964Z",
          "shell.execute_reply": "2021-12-31T06:35:50.410707Z",
          "shell.execute_reply.started": "2021-12-31T06:35:50.343149Z"
        },
        "colab": {
          "base_uri": "https://localhost:8080/"
        },
        "id": "rxmeooiwfXJL",
        "outputId": "cf7c3ffe-12a6-42ec-9fad-0f76e4b5864e"
      },
      "outputs": [
        {
          "output_type": "execute_result",
          "data": {
            "text/plain": [
              "3.49003984063745"
            ]
          },
          "metadata": {},
          "execution_count": 36
        }
      ],
      "source": [
        "time1/time2"
      ]
    },
    {
      "cell_type": "code",
      "execution_count": 38,
      "metadata": {
        "execution": {
          "iopub.execute_input": "2021-12-31T06:36:00.861965Z",
          "iopub.status.busy": "2021-12-31T06:36:00.861687Z",
          "iopub.status.idle": "2021-12-31T06:36:00.867746Z",
          "shell.execute_reply": "2021-12-31T06:36:00.867162Z",
          "shell.execute_reply.started": "2021-12-31T06:36:00.861937Z"
        },
        "colab": {
          "base_uri": "https://localhost:8080/",
          "height": 104
        },
        "id": "T-eMG-S5fXJM",
        "outputId": "8530ab06-1632-4103-9b60-4ffaa3a33a66"
      },
      "outputs": [
        {
          "output_type": "execute_result",
          "data": {
            "text/plain": [
              "'probably my all-time favorite movie, a story of selflessness, sacrifice and dedication to a noble cause, but it\\'s not preachy or boring. it just never gets old, despite my having seen it some 15 or more times in the last 25 years. paul lukas\\' performance brings tears to my eyes, and bette davis, in one of her very few truly sympathetic roles, is a delight. the kids are, as grandma says, more like \"dressed-up midgets\" than children, but that only makes them more fun to watch. and the mother\\'s slow awakening to what\\'s happening in the world and under her own roof is believable and startling. if i had a dozen thumbs, they\\'d all be \"up\" for this movie.'"
            ],
            "application/vnd.google.colaboratory.intrinsic+json": {
              "type": "string"
            }
          },
          "metadata": {},
          "execution_count": 38
        }
      ],
      "source": [
        "df['review'][5]"
      ]
    },
    {
      "cell_type": "code",
      "execution_count": 39,
      "metadata": {
        "execution": {
          "iopub.execute_input": "2021-12-31T06:36:15.841878Z",
          "iopub.status.busy": "2021-12-31T06:36:15.841151Z",
          "iopub.status.idle": "2021-12-31T06:36:15.847766Z",
          "shell.execute_reply": "2021-12-31T06:36:15.847100Z",
          "shell.execute_reply.started": "2021-12-31T06:36:15.841838Z"
        },
        "id": "y1378-1cfXJM",
        "colab": {
          "base_uri": "https://localhost:8080/",
          "height": 104
        },
        "outputId": "799ffe28-b4f3-40c6-85c7-45eda976cd0f"
      },
      "outputs": [
        {
          "output_type": "execute_result",
          "data": {
            "text/plain": [
              "'probably my alltime favorite movie a story of selflessness sacrifice and dedication to a noble cause but its not preachy or boring it just never gets old despite my having seen it some 15 or more times in the last 25 years paul lukas performance brings tears to my eyes and bette davis in one of her very few truly sympathetic roles is a delight the kids are as grandma says more like dressedup midgets than children but that only makes them more fun to watch and the mothers slow awakening to whats happening in the world and under her own roof is believable and startling if i had a dozen thumbs theyd all be up for this movie'"
            ],
            "application/vnd.google.colaboratory.intrinsic+json": {
              "type": "string"
            }
          },
          "metadata": {},
          "execution_count": 39
        }
      ],
      "source": [
        "remove_punc1(df['review'][5])"
      ]
    },
    {
      "cell_type": "markdown",
      "metadata": {
        "id": "5SBlyRsrfXJM"
      },
      "source": [
        "# chat_conversion handle"
      ]
    },
    {
      "cell_type": "code",
      "execution_count": 40,
      "metadata": {
        "execution": {
          "iopub.execute_input": "2021-12-31T06:36:22.728415Z",
          "iopub.status.busy": "2021-12-31T06:36:22.727766Z",
          "iopub.status.idle": "2021-12-31T06:36:22.743070Z",
          "shell.execute_reply": "2021-12-31T06:36:22.742046Z",
          "shell.execute_reply.started": "2021-12-31T06:36:22.728375Z"
        },
        "id": "nXzadIiQfXJM",
        "outputId": "10af1e1e-2f9d-4922-9f44-c8319b21bdc7",
        "colab": {
          "base_uri": "https://localhost:8080/"
        }
      },
      "outputs": [
        {
          "output_type": "execute_result",
          "data": {
            "text/plain": [
              "{'FYI': 'For Your Information',\n",
              " 'ASAP': 'As Soon As Possible',\n",
              " 'BRB': 'Be Right Back',\n",
              " 'BTW': 'By The Way',\n",
              " 'OMG': 'Oh My God',\n",
              " 'IMO': 'In My Opinion',\n",
              " 'LOL': 'Laugh Out Loud',\n",
              " 'TTYL': 'Talk To You Later',\n",
              " 'GTG': 'Got To Go',\n",
              " 'TTYT': 'Talk To You Tomorrow',\n",
              " 'IDK': \"I Don't Know\",\n",
              " 'TMI': 'Too Much Information',\n",
              " 'IMHO': 'In My Humble Opinion',\n",
              " 'ICYMI': 'In Case You Missed It',\n",
              " 'AFAIK': 'As Far As I Know',\n",
              " 'FAQ': 'Frequently Asked Questions',\n",
              " 'TGIF': \"Thank God It's Friday\",\n",
              " 'FYA': 'For Your Action'}"
            ]
          },
          "metadata": {},
          "execution_count": 40
        }
      ],
      "source": [
        "chat_words = {\n",
        "    'AFAIK':'As Far As I Know',\n",
        "    'AFK':'Away From Keyboard',\n",
        "    'ASAP':'As Soon As Possible'\n",
        "}\n",
        "\n",
        "\n",
        "{\n",
        "    \"FYI\": \"For Your Information\",\n",
        "    \"ASAP\": \"As Soon As Possible\",\n",
        "    \"BRB\": \"Be Right Back\",\n",
        "    \"BTW\": \"By The Way\",\n",
        "    \"OMG\": \"Oh My God\",\n",
        "    \"IMO\": \"In My Opinion\",\n",
        "    \"LOL\": \"Laugh Out Loud\",\n",
        "    \"TTYL\": \"Talk To You Later\",\n",
        "    \"GTG\": \"Got To Go\",\n",
        "    \"TTYT\": \"Talk To You Tomorrow\",\n",
        "    \"IDK\": \"I Don't Know\",\n",
        "    \"TMI\": \"Too Much Information\",\n",
        "    \"IMHO\": \"In My Humble Opinion\",\n",
        "    \"ICYMI\": \"In Case You Missed It\",\n",
        "    \"AFAIK\": \"As Far As I Know\",\n",
        "    \"BTW\": \"By The Way\",\n",
        "    \"FAQ\": \"Frequently Asked Questions\",\n",
        "    \"TGIF\": \"Thank God It's Friday\",\n",
        "    \"FYA\": \"For Your Action\",\n",
        "    \"ICYMI\": \"In Case You Missed It\",\n",
        "}\n"
      ]
    },
    {
      "cell_type": "code",
      "execution_count": 46,
      "metadata": {
        "execution": {
          "iopub.execute_input": "2021-12-31T06:37:18.994223Z",
          "iopub.status.busy": "2021-12-31T06:37:18.993886Z",
          "iopub.status.idle": "2021-12-31T06:37:19.000183Z",
          "shell.execute_reply": "2021-12-31T06:37:18.999265Z",
          "shell.execute_reply.started": "2021-12-31T06:37:18.994189Z"
        },
        "id": "OLgR54U8fXJN"
      },
      "outputs": [],
      "source": [
        "def chat_conversion(text):\n",
        "    new_text = []\n",
        "    for w in text.split(\" \"): #splitting empty string with spaces\n",
        "        if w.upper() in chat_words:\n",
        "            new_text.append(chat_words[w.upper()])\n",
        "        else:\n",
        "            new_text.append(w)\n",
        "    return \" \".join(new_text)"
      ]
    },
    {
      "cell_type": "code",
      "execution_count": 47,
      "metadata": {
        "execution": {
          "iopub.execute_input": "2021-12-31T06:37:24.999985Z",
          "iopub.status.busy": "2021-12-31T06:37:24.999695Z",
          "iopub.status.idle": "2021-12-31T06:37:25.024673Z",
          "shell.execute_reply": "2021-12-31T06:37:25.023427Z",
          "shell.execute_reply.started": "2021-12-31T06:37:24.999952Z"
        },
        "colab": {
          "base_uri": "https://localhost:8080/",
          "height": 35
        },
        "id": "sXQpRJjufXJN",
        "outputId": "10a09b82-cf95-4401-c148-96779a902551"
      },
      "outputs": [
        {
          "output_type": "execute_result",
          "data": {
            "text/plain": [
              "'Do this work As Soon As Possible'"
            ],
            "application/vnd.google.colaboratory.intrinsic+json": {
              "type": "string"
            }
          },
          "metadata": {},
          "execution_count": 47
        }
      ],
      "source": [
        "chat_conversion('Do this work ASAP')"
      ]
    },
    {
      "cell_type": "markdown",
      "metadata": {
        "id": "8eP5rC1dfXJN"
      },
      "source": [
        "# incorrect_text handling"
      ]
    },
    {
      "cell_type": "code",
      "execution_count": 52,
      "metadata": {
        "execution": {
          "iopub.execute_input": "2021-12-31T06:37:38.717551Z",
          "iopub.status.busy": "2021-12-31T06:37:38.717223Z",
          "iopub.status.idle": "2021-12-31T06:37:40.330551Z",
          "shell.execute_reply": "2021-12-31T06:37:40.329692Z",
          "shell.execute_reply.started": "2021-12-31T06:37:38.717517Z"
        },
        "id": "tvF49XU6fXJO"
      },
      "outputs": [],
      "source": [
        "from textblob import TextBlob\n",
        "#used to process sNLP(natural language processing)"
      ]
    },
    {
      "cell_type": "markdown",
      "source": [
        "it clears all typos in text\n"
      ],
      "metadata": {
        "id": "9zMKytoEZVoB"
      }
    },
    {
      "cell_type": "code",
      "execution_count": 51,
      "metadata": {
        "execution": {
          "iopub.execute_input": "2021-12-31T06:37:50.015862Z",
          "iopub.status.busy": "2021-12-31T06:37:50.015545Z",
          "iopub.status.idle": "2021-12-31T06:37:50.104071Z",
          "shell.execute_reply": "2021-12-31T06:37:50.103445Z",
          "shell.execute_reply.started": "2021-12-31T06:37:50.015829Z"
        },
        "colab": {
          "base_uri": "https://localhost:8080/",
          "height": 35
        },
        "id": "ytlFIBi5fXJO",
        "outputId": "b5701393-5f84-45a4-a79b-ed41cb11068f"
      },
      "outputs": [
        {
          "output_type": "execute_result",
          "data": {
            "text/plain": [
              "'certain conditions during several generations are modified in the same manner.'"
            ],
            "application/vnd.google.colaboratory.intrinsic+json": {
              "type": "string"
            }
          },
          "metadata": {},
          "execution_count": 51
        }
      ],
      "source": [
        "incorrect_text = 'ceertain conditionas duriing seveal ggenerations aree moodified in the saame maner.'\n",
        "\n",
        "textBlb = TextBlob(incorrect_text)\n",
        "\n",
        "textBlb.correct().string"
      ]
    },
    {
      "cell_type": "markdown",
      "metadata": {
        "id": "WITVhvMnfXJO"
      },
      "source": [
        "# stopwords"
      ]
    },
    {
      "cell_type": "markdown",
      "source": [
        "In Natural Language Processing (NLP), the nltk.corpus module in the Natural Language Toolkit (NLTK) library is used to access a variety of text corpora and lexical resources. One of the common uses of nltk.corpus is to handle stopwords.\n",
        "\n",
        "Stopwords are words that are commonly used in a language but carry little meaningful information, such as “the,” “is,” “in,” and “and.” These words are often removed from text data to focus on the more significant words that contribute to the meaning of the text.\n"
      ],
      "metadata": {
        "id": "WCsphdx8Z54o"
      }
    },
    {
      "cell_type": "code",
      "execution_count": 54,
      "metadata": {
        "execution": {
          "iopub.execute_input": "2021-12-31T06:38:05.959259Z",
          "iopub.status.busy": "2021-12-31T06:38:05.958488Z",
          "iopub.status.idle": "2021-12-31T06:38:05.963636Z",
          "shell.execute_reply": "2021-12-31T06:38:05.962600Z",
          "shell.execute_reply.started": "2021-12-31T06:38:05.959220Z"
        },
        "colab": {
          "base_uri": "https://localhost:8080/"
        },
        "id": "n-2O4IPafXJO",
        "outputId": "5506e1ef-ff9d-45c8-e40a-30383e832eca"
      },
      "outputs": [
        {
          "output_type": "stream",
          "name": "stderr",
          "text": [
            "[nltk_data] Downloading package stopwords to /root/nltk_data...\n",
            "[nltk_data]   Package stopwords is already up-to-date!\n"
          ]
        },
        {
          "output_type": "execute_result",
          "data": {
            "text/plain": [
              "True"
            ]
          },
          "metadata": {},
          "execution_count": 54
        }
      ],
      "source": [
        "from nltk.corpus import stopwords\n",
        "import nltk\n",
        "nltk.download('stopwords')"
      ]
    },
    {
      "cell_type": "code",
      "execution_count": 55,
      "metadata": {
        "execution": {
          "iopub.execute_input": "2021-12-31T06:38:12.662952Z",
          "iopub.status.busy": "2021-12-31T06:38:12.662315Z",
          "iopub.status.idle": "2021-12-31T06:38:12.676818Z",
          "shell.execute_reply": "2021-12-31T06:38:12.675895Z",
          "shell.execute_reply.started": "2021-12-31T06:38:12.662905Z"
        },
        "colab": {
          "base_uri": "https://localhost:8080/"
        },
        "id": "5cF8S-1QfXJP",
        "outputId": "b83b8bb6-5e32-4ba2-c30d-6aad332f5552"
      },
      "outputs": [
        {
          "output_type": "execute_result",
          "data": {
            "text/plain": [
              "['i',\n",
              " 'me',\n",
              " 'my',\n",
              " 'myself',\n",
              " 'we',\n",
              " 'our',\n",
              " 'ours',\n",
              " 'ourselves',\n",
              " 'you',\n",
              " \"you're\",\n",
              " \"you've\",\n",
              " \"you'll\",\n",
              " \"you'd\",\n",
              " 'your',\n",
              " 'yours',\n",
              " 'yourself',\n",
              " 'yourselves',\n",
              " 'he',\n",
              " 'him',\n",
              " 'his',\n",
              " 'himself',\n",
              " 'she',\n",
              " \"she's\",\n",
              " 'her',\n",
              " 'hers',\n",
              " 'herself',\n",
              " 'it',\n",
              " \"it's\",\n",
              " 'its',\n",
              " 'itself',\n",
              " 'they',\n",
              " 'them',\n",
              " 'their',\n",
              " 'theirs',\n",
              " 'themselves',\n",
              " 'what',\n",
              " 'which',\n",
              " 'who',\n",
              " 'whom',\n",
              " 'this',\n",
              " 'that',\n",
              " \"that'll\",\n",
              " 'these',\n",
              " 'those',\n",
              " 'am',\n",
              " 'is',\n",
              " 'are',\n",
              " 'was',\n",
              " 'were',\n",
              " 'be',\n",
              " 'been',\n",
              " 'being',\n",
              " 'have',\n",
              " 'has',\n",
              " 'had',\n",
              " 'having',\n",
              " 'do',\n",
              " 'does',\n",
              " 'did',\n",
              " 'doing',\n",
              " 'a',\n",
              " 'an',\n",
              " 'the',\n",
              " 'and',\n",
              " 'but',\n",
              " 'if',\n",
              " 'or',\n",
              " 'because',\n",
              " 'as',\n",
              " 'until',\n",
              " 'while',\n",
              " 'of',\n",
              " 'at',\n",
              " 'by',\n",
              " 'for',\n",
              " 'with',\n",
              " 'about',\n",
              " 'against',\n",
              " 'between',\n",
              " 'into',\n",
              " 'through',\n",
              " 'during',\n",
              " 'before',\n",
              " 'after',\n",
              " 'above',\n",
              " 'below',\n",
              " 'to',\n",
              " 'from',\n",
              " 'up',\n",
              " 'down',\n",
              " 'in',\n",
              " 'out',\n",
              " 'on',\n",
              " 'off',\n",
              " 'over',\n",
              " 'under',\n",
              " 'again',\n",
              " 'further',\n",
              " 'then',\n",
              " 'once',\n",
              " 'here',\n",
              " 'there',\n",
              " 'when',\n",
              " 'where',\n",
              " 'why',\n",
              " 'how',\n",
              " 'all',\n",
              " 'any',\n",
              " 'both',\n",
              " 'each',\n",
              " 'few',\n",
              " 'more',\n",
              " 'most',\n",
              " 'other',\n",
              " 'some',\n",
              " 'such',\n",
              " 'no',\n",
              " 'nor',\n",
              " 'not',\n",
              " 'only',\n",
              " 'own',\n",
              " 'same',\n",
              " 'so',\n",
              " 'than',\n",
              " 'too',\n",
              " 'very',\n",
              " 's',\n",
              " 't',\n",
              " 'can',\n",
              " 'will',\n",
              " 'just',\n",
              " 'don',\n",
              " \"don't\",\n",
              " 'should',\n",
              " \"should've\",\n",
              " 'now',\n",
              " 'd',\n",
              " 'll',\n",
              " 'm',\n",
              " 'o',\n",
              " 're',\n",
              " 've',\n",
              " 'y',\n",
              " 'ain',\n",
              " 'aren',\n",
              " \"aren't\",\n",
              " 'couldn',\n",
              " \"couldn't\",\n",
              " 'didn',\n",
              " \"didn't\",\n",
              " 'doesn',\n",
              " \"doesn't\",\n",
              " 'hadn',\n",
              " \"hadn't\",\n",
              " 'hasn',\n",
              " \"hasn't\",\n",
              " 'haven',\n",
              " \"haven't\",\n",
              " 'isn',\n",
              " \"isn't\",\n",
              " 'ma',\n",
              " 'mightn',\n",
              " \"mightn't\",\n",
              " 'mustn',\n",
              " \"mustn't\",\n",
              " 'needn',\n",
              " \"needn't\",\n",
              " 'shan',\n",
              " \"shan't\",\n",
              " 'shouldn',\n",
              " \"shouldn't\",\n",
              " 'wasn',\n",
              " \"wasn't\",\n",
              " 'weren',\n",
              " \"weren't\",\n",
              " 'won',\n",
              " \"won't\",\n",
              " 'wouldn',\n",
              " \"wouldn't\"]"
            ]
          },
          "metadata": {},
          "execution_count": 55
        }
      ],
      "source": [
        "stopwords.words('english')"
      ]
    },
    {
      "cell_type": "code",
      "source": [
        "len(stopwords.words('english'))"
      ],
      "metadata": {
        "colab": {
          "base_uri": "https://localhost:8080/"
        },
        "id": "h_9njCnCqeW7",
        "outputId": "014c7bcf-667b-4a2f-b505-b351d9de4ef3"
      },
      "execution_count": 56,
      "outputs": [
        {
          "output_type": "execute_result",
          "data": {
            "text/plain": [
              "179"
            ]
          },
          "metadata": {},
          "execution_count": 56
        }
      ]
    },
    {
      "cell_type": "code",
      "execution_count": 57,
      "metadata": {
        "execution": {
          "iopub.execute_input": "2021-12-31T06:38:56.165757Z",
          "iopub.status.busy": "2021-12-31T06:38:56.165121Z",
          "iopub.status.idle": "2021-12-31T06:38:56.171381Z",
          "shell.execute_reply": "2021-12-31T06:38:56.170444Z",
          "shell.execute_reply.started": "2021-12-31T06:38:56.165715Z"
        },
        "id": "C6FQ_crxfXJP"
      },
      "outputs": [],
      "source": [
        "def remove_stopwords(text):\n",
        "    new_text = []\n",
        "\n",
        "    for word in text.split():\n",
        "        if word in stopwords.words('english'):\n",
        "            new_text.append('')\n",
        "        else:\n",
        "            new_text.append(word)\n",
        "    x = new_text[:]\n",
        "    new_text.clear()\n",
        "    return \" \".join(x)"
      ]
    },
    {
      "cell_type": "code",
      "execution_count": 58,
      "metadata": {
        "execution": {
          "iopub.execute_input": "2021-12-31T06:39:01.303753Z",
          "iopub.status.busy": "2021-12-31T06:39:01.302916Z",
          "iopub.status.idle": "2021-12-31T06:39:01.315515Z",
          "shell.execute_reply": "2021-12-31T06:39:01.314610Z",
          "shell.execute_reply.started": "2021-12-31T06:39:01.303713Z"
        },
        "colab": {
          "base_uri": "https://localhost:8080/",
          "height": 52
        },
        "id": "6ToJ1uqBfXJP",
        "outputId": "90975daf-e70a-458f-ed54-872429d0e154"
      },
      "outputs": [
        {
          "output_type": "execute_result",
          "data": {
            "text/plain": [
              "'probably  all-time favorite movie,  story  selflessness, sacrifice  dedication   noble cause,    preachy  boring.   never gets old, despite   seen   15   times'"
            ],
            "application/vnd.google.colaboratory.intrinsic+json": {
              "type": "string"
            }
          },
          "metadata": {},
          "execution_count": 58
        }
      ],
      "source": [
        "remove_stopwords('probably my all-time favorite movie, a story of selflessness, sacrifice and dedication to a noble cause, but it\\'s not preachy or boring. it just never gets old, despite my having seen it some 15 or more times')"
      ]
    },
    {
      "cell_type": "code",
      "execution_count": 60,
      "metadata": {
        "execution": {
          "iopub.execute_input": "2021-12-31T06:39:05.677615Z",
          "iopub.status.busy": "2021-12-31T06:39:05.677024Z",
          "iopub.status.idle": "2021-12-31T06:39:05.688124Z",
          "shell.execute_reply": "2021-12-31T06:39:05.687181Z",
          "shell.execute_reply.started": "2021-12-31T06:39:05.677575Z"
        },
        "colab": {
          "base_uri": "https://localhost:8080/",
          "height": 739
        },
        "id": "Sv9S5wuGfXJQ",
        "outputId": "d336fca5-5876-466f-a1dd-065b84ba6cfd"
      },
      "outputs": [
        {
          "output_type": "execute_result",
          "data": {
            "text/plain": [
              "                                              review sentiment\n",
              "0  one of the other reviewers has mentioned that ...  positive\n",
              "1  a wonderful little production. the filming tec...  positive\n",
              "2  i thought this was a wonderful way to spend ti...  positive\n",
              "3  basically there's a family where a little boy ...  negative\n",
              "4  petter mattei's \"love in the time of money\" is...  positive"
            ],
            "text/html": [
              "\n",
              "  <div id=\"df-5f423167-8ec6-4ccd-b7fa-ced7c1634b86\" class=\"colab-df-container\">\n",
              "    <div>\n",
              "<style scoped>\n",
              "    .dataframe tbody tr th:only-of-type {\n",
              "        vertical-align: middle;\n",
              "    }\n",
              "\n",
              "    .dataframe tbody tr th {\n",
              "        vertical-align: top;\n",
              "    }\n",
              "\n",
              "    .dataframe thead th {\n",
              "        text-align: right;\n",
              "    }\n",
              "</style>\n",
              "<table border=\"1\" class=\"dataframe\">\n",
              "  <thead>\n",
              "    <tr style=\"text-align: right;\">\n",
              "      <th></th>\n",
              "      <th>review</th>\n",
              "      <th>sentiment</th>\n",
              "    </tr>\n",
              "  </thead>\n",
              "  <tbody>\n",
              "    <tr>\n",
              "      <th>0</th>\n",
              "      <td>one of the other reviewers has mentioned that ...</td>\n",
              "      <td>positive</td>\n",
              "    </tr>\n",
              "    <tr>\n",
              "      <th>1</th>\n",
              "      <td>a wonderful little production. the filming tec...</td>\n",
              "      <td>positive</td>\n",
              "    </tr>\n",
              "    <tr>\n",
              "      <th>2</th>\n",
              "      <td>i thought this was a wonderful way to spend ti...</td>\n",
              "      <td>positive</td>\n",
              "    </tr>\n",
              "    <tr>\n",
              "      <th>3</th>\n",
              "      <td>basically there's a family where a little boy ...</td>\n",
              "      <td>negative</td>\n",
              "    </tr>\n",
              "    <tr>\n",
              "      <th>4</th>\n",
              "      <td>petter mattei's \"love in the time of money\" is...</td>\n",
              "      <td>positive</td>\n",
              "    </tr>\n",
              "  </tbody>\n",
              "</table>\n",
              "</div>\n",
              "    <div class=\"colab-df-buttons\">\n",
              "\n",
              "  <div class=\"colab-df-container\">\n",
              "    <button class=\"colab-df-convert\" onclick=\"convertToInteractive('df-5f423167-8ec6-4ccd-b7fa-ced7c1634b86')\"\n",
              "            title=\"Convert this dataframe to an interactive table.\"\n",
              "            style=\"display:none;\">\n",
              "\n",
              "  <svg xmlns=\"http://www.w3.org/2000/svg\" height=\"24px\" viewBox=\"0 -960 960 960\">\n",
              "    <path d=\"M120-120v-720h720v720H120Zm60-500h600v-160H180v160Zm220 220h160v-160H400v160Zm0 220h160v-160H400v160ZM180-400h160v-160H180v160Zm440 0h160v-160H620v160ZM180-180h160v-160H180v160Zm440 0h160v-160H620v160Z\"/>\n",
              "  </svg>\n",
              "    </button>\n",
              "\n",
              "  <style>\n",
              "    .colab-df-container {\n",
              "      display:flex;\n",
              "      gap: 12px;\n",
              "    }\n",
              "\n",
              "    .colab-df-convert {\n",
              "      background-color: #E8F0FE;\n",
              "      border: none;\n",
              "      border-radius: 50%;\n",
              "      cursor: pointer;\n",
              "      display: none;\n",
              "      fill: #1967D2;\n",
              "      height: 32px;\n",
              "      padding: 0 0 0 0;\n",
              "      width: 32px;\n",
              "    }\n",
              "\n",
              "    .colab-df-convert:hover {\n",
              "      background-color: #E2EBFA;\n",
              "      box-shadow: 0px 1px 2px rgba(60, 64, 67, 0.3), 0px 1px 3px 1px rgba(60, 64, 67, 0.15);\n",
              "      fill: #174EA6;\n",
              "    }\n",
              "\n",
              "    .colab-df-buttons div {\n",
              "      margin-bottom: 4px;\n",
              "    }\n",
              "\n",
              "    [theme=dark] .colab-df-convert {\n",
              "      background-color: #3B4455;\n",
              "      fill: #D2E3FC;\n",
              "    }\n",
              "\n",
              "    [theme=dark] .colab-df-convert:hover {\n",
              "      background-color: #434B5C;\n",
              "      box-shadow: 0px 1px 3px 1px rgba(0, 0, 0, 0.15);\n",
              "      filter: drop-shadow(0px 1px 2px rgba(0, 0, 0, 0.3));\n",
              "      fill: #FFFFFF;\n",
              "    }\n",
              "  </style>\n",
              "\n",
              "    <script>\n",
              "      const buttonEl =\n",
              "        document.querySelector('#df-5f423167-8ec6-4ccd-b7fa-ced7c1634b86 button.colab-df-convert');\n",
              "      buttonEl.style.display =\n",
              "        google.colab.kernel.accessAllowed ? 'block' : 'none';\n",
              "\n",
              "      async function convertToInteractive(key) {\n",
              "        const element = document.querySelector('#df-5f423167-8ec6-4ccd-b7fa-ced7c1634b86');\n",
              "        const dataTable =\n",
              "          await google.colab.kernel.invokeFunction('convertToInteractive',\n",
              "                                                    [key], {});\n",
              "        if (!dataTable) return;\n",
              "\n",
              "        const docLinkHtml = 'Like what you see? Visit the ' +\n",
              "          '<a target=\"_blank\" href=https://colab.research.google.com/notebooks/data_table.ipynb>data table notebook</a>'\n",
              "          + ' to learn more about interactive tables.';\n",
              "        element.innerHTML = '';\n",
              "        dataTable['output_type'] = 'display_data';\n",
              "        await google.colab.output.renderOutput(dataTable, element);\n",
              "        const docLink = document.createElement('div');\n",
              "        docLink.innerHTML = docLinkHtml;\n",
              "        element.appendChild(docLink);\n",
              "      }\n",
              "    </script>\n",
              "  </div>\n",
              "\n",
              "\n",
              "<div id=\"df-9dee9eeb-4ec4-467e-a89f-1468e3ac7dd1\">\n",
              "  <button class=\"colab-df-quickchart\" onclick=\"quickchart('df-9dee9eeb-4ec4-467e-a89f-1468e3ac7dd1')\"\n",
              "            title=\"Suggest charts\"\n",
              "            style=\"display:none;\">\n",
              "\n",
              "<svg xmlns=\"http://www.w3.org/2000/svg\" height=\"24px\"viewBox=\"0 0 24 24\"\n",
              "     width=\"24px\">\n",
              "    <g>\n",
              "        <path d=\"M19 3H5c-1.1 0-2 .9-2 2v14c0 1.1.9 2 2 2h14c1.1 0 2-.9 2-2V5c0-1.1-.9-2-2-2zM9 17H7v-7h2v7zm4 0h-2V7h2v10zm4 0h-2v-4h2v4z\"/>\n",
              "    </g>\n",
              "</svg>\n",
              "  </button>\n",
              "\n",
              "<style>\n",
              "  .colab-df-quickchart {\n",
              "      --bg-color: #E8F0FE;\n",
              "      --fill-color: #1967D2;\n",
              "      --hover-bg-color: #E2EBFA;\n",
              "      --hover-fill-color: #174EA6;\n",
              "      --disabled-fill-color: #AAA;\n",
              "      --disabled-bg-color: #DDD;\n",
              "  }\n",
              "\n",
              "  [theme=dark] .colab-df-quickchart {\n",
              "      --bg-color: #3B4455;\n",
              "      --fill-color: #D2E3FC;\n",
              "      --hover-bg-color: #434B5C;\n",
              "      --hover-fill-color: #FFFFFF;\n",
              "      --disabled-bg-color: #3B4455;\n",
              "      --disabled-fill-color: #666;\n",
              "  }\n",
              "\n",
              "  .colab-df-quickchart {\n",
              "    background-color: var(--bg-color);\n",
              "    border: none;\n",
              "    border-radius: 50%;\n",
              "    cursor: pointer;\n",
              "    display: none;\n",
              "    fill: var(--fill-color);\n",
              "    height: 32px;\n",
              "    padding: 0;\n",
              "    width: 32px;\n",
              "  }\n",
              "\n",
              "  .colab-df-quickchart:hover {\n",
              "    background-color: var(--hover-bg-color);\n",
              "    box-shadow: 0 1px 2px rgba(60, 64, 67, 0.3), 0 1px 3px 1px rgba(60, 64, 67, 0.15);\n",
              "    fill: var(--button-hover-fill-color);\n",
              "  }\n",
              "\n",
              "  .colab-df-quickchart-complete:disabled,\n",
              "  .colab-df-quickchart-complete:disabled:hover {\n",
              "    background-color: var(--disabled-bg-color);\n",
              "    fill: var(--disabled-fill-color);\n",
              "    box-shadow: none;\n",
              "  }\n",
              "\n",
              "  .colab-df-spinner {\n",
              "    border: 2px solid var(--fill-color);\n",
              "    border-color: transparent;\n",
              "    border-bottom-color: var(--fill-color);\n",
              "    animation:\n",
              "      spin 1s steps(1) infinite;\n",
              "  }\n",
              "\n",
              "  @keyframes spin {\n",
              "    0% {\n",
              "      border-color: transparent;\n",
              "      border-bottom-color: var(--fill-color);\n",
              "      border-left-color: var(--fill-color);\n",
              "    }\n",
              "    20% {\n",
              "      border-color: transparent;\n",
              "      border-left-color: var(--fill-color);\n",
              "      border-top-color: var(--fill-color);\n",
              "    }\n",
              "    30% {\n",
              "      border-color: transparent;\n",
              "      border-left-color: var(--fill-color);\n",
              "      border-top-color: var(--fill-color);\n",
              "      border-right-color: var(--fill-color);\n",
              "    }\n",
              "    40% {\n",
              "      border-color: transparent;\n",
              "      border-right-color: var(--fill-color);\n",
              "      border-top-color: var(--fill-color);\n",
              "    }\n",
              "    60% {\n",
              "      border-color: transparent;\n",
              "      border-right-color: var(--fill-color);\n",
              "    }\n",
              "    80% {\n",
              "      border-color: transparent;\n",
              "      border-right-color: var(--fill-color);\n",
              "      border-bottom-color: var(--fill-color);\n",
              "    }\n",
              "    90% {\n",
              "      border-color: transparent;\n",
              "      border-bottom-color: var(--fill-color);\n",
              "    }\n",
              "  }\n",
              "</style>\n",
              "\n",
              "  <script>\n",
              "    async function quickchart(key) {\n",
              "      const quickchartButtonEl =\n",
              "        document.querySelector('#' + key + ' button');\n",
              "      quickchartButtonEl.disabled = true;  // To prevent multiple clicks.\n",
              "      quickchartButtonEl.classList.add('colab-df-spinner');\n",
              "      try {\n",
              "        const charts = await google.colab.kernel.invokeFunction(\n",
              "            'suggestCharts', [key], {});\n",
              "      } catch (error) {\n",
              "        console.error('Error during call to suggestCharts:', error);\n",
              "      }\n",
              "      quickchartButtonEl.classList.remove('colab-df-spinner');\n",
              "      quickchartButtonEl.classList.add('colab-df-quickchart-complete');\n",
              "    }\n",
              "    (() => {\n",
              "      let quickchartButtonEl =\n",
              "        document.querySelector('#df-9dee9eeb-4ec4-467e-a89f-1468e3ac7dd1 button');\n",
              "      quickchartButtonEl.style.display =\n",
              "        google.colab.kernel.accessAllowed ? 'block' : 'none';\n",
              "    })();\n",
              "  </script>\n",
              "</div>\n",
              "\n",
              "    </div>\n",
              "  </div>\n"
            ],
            "application/vnd.google.colaboratory.intrinsic+json": {
              "type": "dataframe",
              "variable_name": "df",
              "summary": "{\n  \"name\": \"df\",\n  \"rows\": 100,\n  \"fields\": [\n    {\n      \"column\": \"review\",\n      \"properties\": {\n        \"dtype\": \"string\",\n        \"num_unique_values\": 100,\n        \"samples\": [\n          \"\\\"fate\\\" leads walter sparrow to come in possession of a mysterious novel that has eerie similarities and connections to his life, all based around the number 23. as the story unfolds in real life and fiction, sparrow must figure out his connection to the book and how the story will eventually end.the number 23 offers an intriguing premise that is undone by a weak execution. the film just failed on many different levels which is pretty disappointing because it held so much potential. the screenplay was probably the worst part about it. it was filled with silly sequences and laughable dialog that just killed the mood of the movie. it seemed like the screenwriter had a good idea, he just didn't know how to develop it to stretch over a ninety minute running time. the second half of the film was running low on ideas, the twist was pretty obvious and the ending was awful.joel schumacher is responsible for one of the worst movies ever and he did redeem himself a little with phone booth and a few other films but the number 23 reminds me that he's still capable of making a stinker. he has the movie drenched in style but he just can't get a good focus. he moves the film at a clunky and slow pace. he switches from reality to what's actually happening in the book which quickly got annoying. the actual book in the film that's titled \\\"the number 23\\\" is an awful detective story and the audience gets stuck listening to carrey narrate it which just bored me to tears. when carrey is finally done with book, we get stuck watching him run around trying to solve the mystery. at this point, the audience has lost interest and there is no real tension. we impatiently wait for the movie to reach it's horrible ending and unconvincing explanation before celebrating that film has finally finished.the acting was mostly average and pretty forgettable. jim carrey was clearly just sleepwalking through his performance and he didn't even seem to be trying. he was either completely over the top in some scenes or just very wooden. his narration was a complete bore to listen to and he put no life inside his character. virginia madsen did the best she could with a limited role but she needs to pick better scripts. logan lerman was pretty bland as was danny huston. overall, the number 23 was an awful thriller that offered more laughs than suspense or thrills. rating 3/10\",\n          \"i cannot believe i enjoyed this as much as i did. the anthology stories were better than par, but the linking story and its surprise ending hooked me. alot of familiar faces will keep you asking yourself \\\"where i have i seen them before?\\\" forget the running time listed on new line's tape, this ain't no 103 minutes, according to my vcr timer and imdb. space maggot douses the campfire in his own special way and hikes this an 8.\",\n          \"caddyshack two is a good movie by itself but compared to the original it cant stack up. robert stack is a horrible replacement for ted knight and jackie mason, while funny just cant compete with rodney dangerfield. ty webb is funny, being the only character from the original. most of the other characters in the movie lack the punch of the original (henry wilcoxon for example) except for the hystericly funny lawyer peter blunt, being played by randy quaid. every line he says reminds me of the originals humor, especially the scene at his office (i don't go in for law suits or motions. i find out where you live and come to your house and beat down your door with a f***ing baseball bat, make a bonfire with the chippindale,maybe roast that golden retriever (arff arff arff) then eat it. and then i'm comin' upstairs junior, and i'm grabbing you by your brooks brothers pjs, and cramming your brand new bmw up your tight a**! do we have an understanding?). offsetting his small role however, is dan acroyd, who is obviously no replacement for bill murray. his voice is beyond irritating and everything he does isnt even funny, its just stupid. overall caddyshack ii is a good movie, but in comparison to the awesome original it just cant cut it.\"\n        ],\n        \"semantic_type\": \"\",\n        \"description\": \"\"\n      }\n    },\n    {\n      \"column\": \"sentiment\",\n      \"properties\": {\n        \"dtype\": \"category\",\n        \"num_unique_values\": 2,\n        \"samples\": [\n          \"negative\",\n          \"positive\"\n        ],\n        \"semantic_type\": \"\",\n        \"description\": \"\"\n      }\n    }\n  ]\n}"
            }
          },
          "metadata": {},
          "execution_count": 60
        }
      ],
      "source": [
        "df.head()"
      ]
    },
    {
      "cell_type": "code",
      "execution_count": 61,
      "metadata": {
        "execution": {
          "iopub.execute_input": "2021-12-31T06:39:09.921822Z",
          "iopub.status.busy": "2021-12-31T06:39:09.921540Z",
          "iopub.status.idle": "2021-12-31T06:42:18.536775Z",
          "shell.execute_reply": "2021-12-31T06:42:18.535137Z",
          "shell.execute_reply.started": "2021-12-31T06:39:09.921791Z"
        },
        "colab": {
          "base_uri": "https://localhost:8080/",
          "height": 458
        },
        "id": "7TT5T2iifXJR",
        "outputId": "21103e49-dd0f-4bee-bc53-1a7ccd76fcfe"
      },
      "outputs": [
        {
          "output_type": "execute_result",
          "data": {
            "text/plain": [
              "0     one    reviewers  mentioned   watching  1 oz e...\n",
              "1      wonderful little production.  filming techniq...\n",
              "2      thought    wonderful way  spend time    hot s...\n",
              "3     basically there's  family   little boy (jake) ...\n",
              "4     petter mattei's \"love   time  money\"   visuall...\n",
              "                            ...                        \n",
              "95    daniel day-lewis    versatile actor alive. eng...\n",
              "96     guess would    originally going    least two ...\n",
              "97    well,  like  watch bad horror b-movies, cause ...\n",
              "98       worst movie   ever seen,  well as,  worst  ...\n",
              "99        mario fan   long    remember,    fond memo...\n",
              "Name: review, Length: 100, dtype: object"
            ],
            "text/html": [
              "<div>\n",
              "<style scoped>\n",
              "    .dataframe tbody tr th:only-of-type {\n",
              "        vertical-align: middle;\n",
              "    }\n",
              "\n",
              "    .dataframe tbody tr th {\n",
              "        vertical-align: top;\n",
              "    }\n",
              "\n",
              "    .dataframe thead th {\n",
              "        text-align: right;\n",
              "    }\n",
              "</style>\n",
              "<table border=\"1\" class=\"dataframe\">\n",
              "  <thead>\n",
              "    <tr style=\"text-align: right;\">\n",
              "      <th></th>\n",
              "      <th>review</th>\n",
              "    </tr>\n",
              "  </thead>\n",
              "  <tbody>\n",
              "    <tr>\n",
              "      <th>0</th>\n",
              "      <td>one    reviewers  mentioned   watching  1 oz e...</td>\n",
              "    </tr>\n",
              "    <tr>\n",
              "      <th>1</th>\n",
              "      <td>wonderful little production.  filming techniq...</td>\n",
              "    </tr>\n",
              "    <tr>\n",
              "      <th>2</th>\n",
              "      <td>thought    wonderful way  spend time    hot s...</td>\n",
              "    </tr>\n",
              "    <tr>\n",
              "      <th>3</th>\n",
              "      <td>basically there's  family   little boy (jake) ...</td>\n",
              "    </tr>\n",
              "    <tr>\n",
              "      <th>4</th>\n",
              "      <td>petter mattei's \"love   time  money\"   visuall...</td>\n",
              "    </tr>\n",
              "    <tr>\n",
              "      <th>...</th>\n",
              "      <td>...</td>\n",
              "    </tr>\n",
              "    <tr>\n",
              "      <th>95</th>\n",
              "      <td>daniel day-lewis    versatile actor alive. eng...</td>\n",
              "    </tr>\n",
              "    <tr>\n",
              "      <th>96</th>\n",
              "      <td>guess would    originally going    least two ...</td>\n",
              "    </tr>\n",
              "    <tr>\n",
              "      <th>97</th>\n",
              "      <td>well,  like  watch bad horror b-movies, cause ...</td>\n",
              "    </tr>\n",
              "    <tr>\n",
              "      <th>98</th>\n",
              "      <td>worst movie   ever seen,  well as,  worst  ...</td>\n",
              "    </tr>\n",
              "    <tr>\n",
              "      <th>99</th>\n",
              "      <td>mario fan   long    remember,    fond memo...</td>\n",
              "    </tr>\n",
              "  </tbody>\n",
              "</table>\n",
              "<p>100 rows × 1 columns</p>\n",
              "</div><br><label><b>dtype:</b> object</label>"
            ]
          },
          "metadata": {},
          "execution_count": 61
        }
      ],
      "source": [
        "df['review'].apply(remove_stopwords)"
      ]
    },
    {
      "cell_type": "markdown",
      "metadata": {
        "id": "U1BpIUyGfXJS"
      },
      "source": [
        "# remove_emoji handle"
      ]
    },
    {
      "cell_type": "markdown",
      "source": [],
      "metadata": {
        "id": "EAdxuGNAf7I0"
      }
    },
    {
      "cell_type": "code",
      "execution_count": 65,
      "metadata": {
        "execution": {
          "iopub.execute_input": "2021-12-31T06:42:51.745358Z",
          "iopub.status.busy": "2021-12-31T06:42:51.744505Z",
          "iopub.status.idle": "2021-12-31T06:42:51.750288Z",
          "shell.execute_reply": "2021-12-31T06:42:51.749730Z",
          "shell.execute_reply.started": "2021-12-31T06:42:51.745310Z"
        },
        "id": "G1Flwi-jfXJS"
      },
      "outputs": [],
      "source": [
        "import re\n",
        "def remove_emoji(text):\n",
        "    emoji_pattern = re.compile(\"[\"\n",
        "                           u\"\\U0001F600-\\U0001F64F\"  # emoticons\n",
        "                           u\"\\U0001F300-\\U0001F5FF\"  # symbols & pictographs\n",
        "                           u\"\\U0001F680-\\U0001F6FF\"  # transport & map symbols\n",
        "                           u\"\\U0001F1E0-\\U0001F1FF\"  # flags (iOS)\n",
        "                           u\"\\U00002702-\\U000027B0\"\n",
        "                           u\"\\U000024C2-\\U0001F251\"\n",
        "                           \"]+\", flags=re.UNICODE)\n",
        "    return emoji_pattern.sub(r'', text)\n",
        "\n",
        "#it will remove the range of all emojis"
      ]
    },
    {
      "cell_type": "code",
      "execution_count": 66,
      "metadata": {
        "execution": {
          "iopub.execute_input": "2021-12-31T06:42:54.927028Z",
          "iopub.status.busy": "2021-12-31T06:42:54.926479Z",
          "iopub.status.idle": "2021-12-31T06:42:54.937617Z",
          "shell.execute_reply": "2021-12-31T06:42:54.937038Z",
          "shell.execute_reply.started": "2021-12-31T06:42:54.926979Z"
        },
        "colab": {
          "base_uri": "https://localhost:8080/",
          "height": 35
        },
        "id": "ytld3e-afXJT",
        "outputId": "09e0ca01-f667-4078-8e94-c56f81e32b76"
      },
      "outputs": [
        {
          "output_type": "execute_result",
          "data": {
            "text/plain": [
              "'Loved the movie. It was '"
            ],
            "application/vnd.google.colaboratory.intrinsic+json": {
              "type": "string"
            }
          },
          "metadata": {},
          "execution_count": 66
        }
      ],
      "source": [
        "remove_emoji(\"Loved the movie. It was 😘😘\")"
      ]
    },
    {
      "cell_type": "code",
      "execution_count": 67,
      "metadata": {
        "execution": {
          "iopub.execute_input": "2021-12-31T06:42:57.500459Z",
          "iopub.status.busy": "2021-12-31T06:42:57.499747Z",
          "iopub.status.idle": "2021-12-31T06:42:57.505979Z",
          "shell.execute_reply": "2021-12-31T06:42:57.505427Z",
          "shell.execute_reply.started": "2021-12-31T06:42:57.500400Z"
        },
        "colab": {
          "base_uri": "https://localhost:8080/",
          "height": 35
        },
        "id": "tWwFcSKYfXJT",
        "outputId": "af74b92f-a611-4d92-b2ba-a13855b2b263"
      },
      "outputs": [
        {
          "output_type": "execute_result",
          "data": {
            "text/plain": [
              "'Lmao '"
            ],
            "application/vnd.google.colaboratory.intrinsic+json": {
              "type": "string"
            }
          },
          "metadata": {},
          "execution_count": 67
        }
      ],
      "source": [
        "remove_emoji(\"Lmao 😂😂\")"
      ]
    },
    {
      "cell_type": "code",
      "source": [
        "!pip install emoji"
      ],
      "metadata": {
        "colab": {
          "base_uri": "https://localhost:8080/"
        },
        "id": "2kaMJEYFnG4s",
        "outputId": "75280ae0-e0ea-4ce9-cd73-71a8f5567950"
      },
      "execution_count": 68,
      "outputs": [
        {
          "output_type": "stream",
          "name": "stdout",
          "text": [
            "Collecting emoji\n",
            "  Downloading emoji-2.14.0-py3-none-any.whl.metadata (5.7 kB)\n",
            "Downloading emoji-2.14.0-py3-none-any.whl (586 kB)\n",
            "\u001b[?25l   \u001b[90m━━━━━━━━━━━━━━━━━━━━━━━━━━━━━━━━━━━━━━━━\u001b[0m \u001b[32m0.0/586.9 kB\u001b[0m \u001b[31m?\u001b[0m eta \u001b[36m-:--:--\u001b[0m\r\u001b[2K   \u001b[90m━━━━━━━━━━━━━━━━━━━━━━━━━━━━━━━━━━━━━━━━\u001b[0m \u001b[32m586.9/586.9 kB\u001b[0m \u001b[31m31.8 MB/s\u001b[0m eta \u001b[36m0:00:00\u001b[0m\n",
            "\u001b[?25hInstalling collected packages: emoji\n",
            "Successfully installed emoji-2.14.0\n"
          ]
        }
      ]
    },
    {
      "cell_type": "markdown",
      "source": [
        "replacing the actual emoji with emoji handle with an english text"
      ],
      "metadata": {
        "id": "AyfzOBwMgFC3"
      }
    },
    {
      "cell_type": "code",
      "execution_count": 69,
      "metadata": {
        "execution": {
          "iopub.execute_input": "2021-12-31T06:43:04.191966Z",
          "iopub.status.busy": "2021-12-31T06:43:04.191476Z",
          "iopub.status.idle": "2021-12-31T06:43:04.480988Z",
          "shell.execute_reply": "2021-12-31T06:43:04.480125Z",
          "shell.execute_reply.started": "2021-12-31T06:43:04.191935Z"
        },
        "colab": {
          "base_uri": "https://localhost:8080/"
        },
        "id": "N7KbcmehfXJU",
        "outputId": "6089be76-4f70-4929-d168-d4f1439c2c31"
      },
      "outputs": [
        {
          "output_type": "stream",
          "name": "stdout",
          "text": [
            "Python is :fire:\n"
          ]
        }
      ],
      "source": [
        "import emoji\n",
        "print(emoji.demojize('Python is 🔥'))"
      ]
    },
    {
      "cell_type": "code",
      "execution_count": 71,
      "metadata": {
        "execution": {
          "iopub.execute_input": "2021-12-31T06:43:07.217770Z",
          "iopub.status.busy": "2021-12-31T06:43:07.217301Z",
          "iopub.status.idle": "2021-12-31T06:43:07.222526Z",
          "shell.execute_reply": "2021-12-31T06:43:07.221705Z",
          "shell.execute_reply.started": "2021-12-31T06:43:07.217723Z"
        },
        "colab": {
          "base_uri": "https://localhost:8080/"
        },
        "id": "9UuuiuetfXJU",
        "outputId": "844c49ed-2cab-4f77-be66-b9f40ba2e0c7"
      },
      "outputs": [
        {
          "output_type": "stream",
          "name": "stdout",
          "text": [
            "Loved the movie. It was :face_blowing_a_kiss:\n"
          ]
        }
      ],
      "source": [
        "print(emoji.demojize('Loved the movie. It was 😘'))"
      ]
    },
    {
      "cell_type": "markdown",
      "metadata": {
        "id": "L68UBnjvfXJV"
      },
      "source": [
        "# Tokenization"
      ]
    },
    {
      "cell_type": "markdown",
      "metadata": {
        "id": "s4DRrhBifXJV"
      },
      "source": [
        "### 1. Using the split function"
      ]
    },
    {
      "cell_type": "code",
      "execution_count": null,
      "metadata": {
        "execution": {
          "iopub.execute_input": "2021-12-31T06:43:15.810492Z",
          "iopub.status.busy": "2021-12-31T06:43:15.810189Z",
          "iopub.status.idle": "2021-12-31T06:43:15.816173Z",
          "shell.execute_reply": "2021-12-31T06:43:15.815384Z",
          "shell.execute_reply.started": "2021-12-31T06:43:15.810462Z"
        },
        "colab": {
          "base_uri": "https://localhost:8080/"
        },
        "id": "ixnRRzv1fXJV",
        "outputId": "2a4f405c-64ed-4688-ba8a-f88a145eeef5"
      },
      "outputs": [
        {
          "output_type": "execute_result",
          "data": {
            "text/plain": [
              "['I', 'am', 'going', 'to', 'delhi']"
            ]
          },
          "metadata": {},
          "execution_count": 56
        }
      ],
      "source": [
        "# word tokenization\n",
        "sent1 = 'I am going to delhi'\n",
        "sent1.split()"
      ]
    },
    {
      "cell_type": "code",
      "execution_count": null,
      "metadata": {
        "execution": {
          "iopub.execute_input": "2021-12-31T06:43:16.672825Z",
          "iopub.status.busy": "2021-12-31T06:43:16.672535Z",
          "iopub.status.idle": "2021-12-31T06:43:16.679365Z",
          "shell.execute_reply": "2021-12-31T06:43:16.678423Z",
          "shell.execute_reply.started": "2021-12-31T06:43:16.672793Z"
        },
        "colab": {
          "base_uri": "https://localhost:8080/"
        },
        "id": "Uq8GvD4lfXJW",
        "outputId": "655eea9a-7431-4a25-997a-3a4b0cf52227"
      },
      "outputs": [
        {
          "output_type": "execute_result",
          "data": {
            "text/plain": [
              "['I am going to delhi',\n",
              " ' I will stay there for 3 days',\n",
              " \" Let's hope the trip to be great\"]"
            ]
          },
          "metadata": {},
          "execution_count": 57
        }
      ],
      "source": [
        "# sentence tokenization\n",
        "sent2 = 'I am going to delhi. I will stay there for 3 days. Let\\'s hope the trip to be great'\n",
        "sent2.split('.')"
      ]
    },
    {
      "cell_type": "code",
      "execution_count": null,
      "metadata": {
        "execution": {
          "iopub.execute_input": "2021-12-31T06:43:19.371045Z",
          "iopub.status.busy": "2021-12-31T06:43:19.370499Z",
          "iopub.status.idle": "2021-12-31T06:43:19.376805Z",
          "shell.execute_reply": "2021-12-31T06:43:19.376060Z",
          "shell.execute_reply.started": "2021-12-31T06:43:19.371000Z"
        },
        "colab": {
          "base_uri": "https://localhost:8080/"
        },
        "id": "NuUmlRlqfXJW",
        "outputId": "c8858d81-b372-4f3b-86e7-ea3298f3e425"
      },
      "outputs": [
        {
          "output_type": "execute_result",
          "data": {
            "text/plain": [
              "['I', 'am', 'going', 'to', 'delhi!']"
            ]
          },
          "metadata": {},
          "execution_count": 58
        }
      ],
      "source": [
        "# Problems with split function\n",
        "sent3 = 'I am going to delhi!'\n",
        "sent3.split()"
      ]
    },
    {
      "cell_type": "code",
      "execution_count": null,
      "metadata": {
        "execution": {
          "iopub.execute_input": "2021-12-31T06:43:22.987186Z",
          "iopub.status.busy": "2021-12-31T06:43:22.986910Z",
          "iopub.status.idle": "2021-12-31T06:43:22.993658Z",
          "shell.execute_reply": "2021-12-31T06:43:22.992820Z",
          "shell.execute_reply.started": "2021-12-31T06:43:22.987156Z"
        },
        "colab": {
          "base_uri": "https://localhost:8080/"
        },
        "id": "QMTgzvsCfXJX",
        "outputId": "8fd5f928-a042-433d-ddba-c03d1e6fe0e4"
      },
      "outputs": [
        {
          "output_type": "execute_result",
          "data": {
            "text/plain": [
              "['Where do think I should go? I have 3 day holiday']"
            ]
          },
          "metadata": {},
          "execution_count": 59
        }
      ],
      "source": [
        "sent4 = 'Where do think I should go? I have 3 day holiday'\n",
        "sent4.split('.')"
      ]
    },
    {
      "cell_type": "markdown",
      "metadata": {
        "id": "YyvxOXehfXJX"
      },
      "source": [
        "### 2. Regular Expression"
      ]
    },
    {
      "cell_type": "markdown",
      "source": [
        "Absolutely, let's break down the regular expression `[\\w']+`:\n",
        "\n",
        "1. **Square Brackets `[]`**:\n",
        "   - Square brackets are used to define a **character class**. A character class matches any one of the characters inside the brackets.\n",
        "\n",
        "2. **`\\w`**:\n",
        "   - `\\w` is a shorthand character class that matches any **word character**. This includes:\n",
        "     - Uppercase and lowercase letters (A-Z, a-z)\n",
        "     - Digits (0-9)\n",
        "     - Underscore (_)\n",
        "\n",
        "3. **Apostrophe `'`**:\n",
        "   - The apostrophe inside the brackets means that the character class will also match the apostrophe character. This is useful for tokenizing words that might include contractions (e.g., \"don't\", \"I'm\").\n",
        "\n",
        "4. **Plus Sign `+`**:\n",
        "   - The `+` quantifier means \"one or more\" of the preceding element. In this case, it means one or more word characters or apostrophes.\n",
        "\n",
        "### Putting It All Together\n",
        "- `[\\w']+` matches sequences of one or more word characters or apostrophes.\n",
        "- For example, in the string `'I am going to delhi!'`, it will match:\n",
        "  - `'I'`\n",
        "  - `'am'`\n",
        "  - `'going'`\n",
        "  - `'to'`\n",
        "  - `'delhi'`\n",
        "\n",
        "### Example\n",
        "Here's how it works with your string:\n",
        "```python\n",
        "import re\n",
        "sent3 = 'I am going to delhi!'\n",
        "tokens = re.findall(\"[\\w']+\", sent3)\n",
        "print(tokens)\n",
        "```\n",
        "Output:\n",
        "```\n",
        "['I', 'am', 'going', 'to', 'delhi']\n",
        "```\n",
        "\n",
        "This regular expression is useful for tokenizing text while preserving contractions and other word-like sequences.\n",
        "\n",
        "Does this help clarify things? Feel free to ask if you have more questions!\n"
      ],
      "metadata": {
        "id": "d2WU2-Z2nh3R"
      }
    },
    {
      "cell_type": "code",
      "execution_count": 73,
      "metadata": {
        "execution": {
          "iopub.execute_input": "2021-12-31T06:43:25.066222Z",
          "iopub.status.busy": "2021-12-31T06:43:25.065942Z",
          "iopub.status.idle": "2021-12-31T06:43:25.072526Z",
          "shell.execute_reply": "2021-12-31T06:43:25.071800Z",
          "shell.execute_reply.started": "2021-12-31T06:43:25.066190Z"
        },
        "colab": {
          "base_uri": "https://localhost:8080/"
        },
        "id": "FpUVu6qffXJY",
        "outputId": "711effda-0429-4591-f82b-275c4dacf145"
      },
      "outputs": [
        {
          "output_type": "execute_result",
          "data": {
            "text/plain": [
              "['I', 'am', 'going', 'to', 'delhi']"
            ]
          },
          "metadata": {},
          "execution_count": 73
        }
      ],
      "source": [
        "import re\n",
        "sent3 = 'I am going to delhi!'\n",
        "tokens = re.findall(\"[\\w']+\", sent3)\n",
        "tokens"
      ]
    },
    {
      "cell_type": "markdown",
      "source": [
        "Sure, let's break down the regular expression `[.!?] ` used in your code:\n",
        "\n",
        "1. **Square Brackets `[]`**:\n",
        "   - Square brackets define a **character class**. A character class matches any one of the characters inside the brackets.\n",
        "\n",
        "2. **Characters Inside the Brackets `.!?`**:\n",
        "   - The characters inside the brackets are:\n",
        "     - `.` (period)\n",
        "     - `!` (exclamation mark)\n",
        "     - `?` (question mark)\n",
        "   - This means the character class will match any of these punctuation marks.\n",
        "\n",
        "3. **Space ` `**:\n",
        "   - The space character after the closing bracket means that the regular expression will match any of the punctuation marks followed by a space.\n",
        "\n",
        "### Putting It All Together\n",
        "- `[.!?] ` matches a period, exclamation mark, or question mark followed by a space.\n",
        "- This pattern is useful for splitting text into sentences, as sentences typically end with one of these punctuation marks followed by a space.\n",
        "\n",
        "### Example\n",
        "Here's how it works with your text:\n",
        "```python\n",
        "import re\n",
        "\n",
        "text = \"\"\"Lorem Ipsum is simply dummy text of the printing and typesetting industry?\n",
        "Lorem Ipsum has been the industry's standard dummy text ever since the 1500s,\n",
        "when an unknown printer took a galley of type and scrambled it to make a type specimen book.\"\"\"\n",
        "\n",
        "sentences = re.compile('[.!?] ').split(text)\n",
        "print(sentences)\n",
        "```\n",
        "\n",
        "### Explanation\n",
        "- The `re.compile('[.!?] ')` compiles the regular expression into a regex object.\n",
        "- The `split(text)` method splits the `text` at each match of the regular expression.\n",
        "\n",
        "### Output\n",
        "When you run the code, the output will be:\n",
        "```\n",
        "['Lorem Ipsum is simply dummy text of the printing and typesetting industry?',\n",
        " \"Lorem Ipsum has been the industry's standard dummy text ever since the 1500s,\\nwhen an unknown printer took a galley of type and scrambled it to make a type specimen book.\"]\n",
        "```\n",
        "\n",
        "This splits the text into sentences based on the punctuation marks followed by a space.\n",
        "\n",
        "Does this help clarify things? Let me know if you have any more questions!"
      ],
      "metadata": {
        "id": "T_oI-yhpomY4"
      }
    },
    {
      "cell_type": "code",
      "execution_count": 72,
      "metadata": {
        "execution": {
          "iopub.execute_input": "2021-12-31T06:43:36.071658Z",
          "iopub.status.busy": "2021-12-31T06:43:36.071360Z",
          "iopub.status.idle": "2021-12-31T06:43:36.079075Z",
          "shell.execute_reply": "2021-12-31T06:43:36.078094Z",
          "shell.execute_reply.started": "2021-12-31T06:43:36.071624Z"
        },
        "colab": {
          "base_uri": "https://localhost:8080/"
        },
        "id": "xRQv_HBafXJZ",
        "outputId": "020c6832-72ab-4fcf-d0dc-a8c0ed76c604"
      },
      "outputs": [
        {
          "output_type": "execute_result",
          "data": {
            "text/plain": [
              "[\"Lorem Ipsum is simply dummy text of the printing and typesetting industry?\\nLorem Ipsum has been the industry's standard dummy text ever since the 1500s,\\nwhen an unknown printer took a galley of type and scrambled it to make a type specimen book.\"]"
            ]
          },
          "metadata": {},
          "execution_count": 72
        }
      ],
      "source": [
        "\n",
        "text = \"\"\"Lorem Ipsum is simply dummy text of the printing and typesetting industry?\n",
        "Lorem Ipsum has been the industry's standard dummy text ever since the 1500s,\n",
        "when an unknown printer took a galley of type and scrambled it to make a type specimen book.\"\"\"\n",
        "sentences = re.compile('[.!?] ').split(text)\n",
        "sentences"
      ]
    },
    {
      "cell_type": "markdown",
      "metadata": {
        "id": "E0WfA5rxfXJZ"
      },
      "source": [
        "### 3. NLTK"
      ]
    },
    {
      "cell_type": "markdown",
      "source": [
        "another way of tokenizing"
      ],
      "metadata": {
        "id": "Py1aSHZutl8j"
      }
    },
    {
      "cell_type": "code",
      "execution_count": 86,
      "metadata": {
        "execution": {
          "iopub.execute_input": "2021-12-31T06:43:43.710755Z",
          "iopub.status.busy": "2021-12-31T06:43:43.710469Z",
          "iopub.status.idle": "2021-12-31T06:43:43.715818Z",
          "shell.execute_reply": "2021-12-31T06:43:43.715109Z",
          "shell.execute_reply.started": "2021-12-31T06:43:43.710728Z"
        },
        "colab": {
          "base_uri": "https://localhost:8080/"
        },
        "id": "7Xm_QZ8BfXJZ",
        "outputId": "2b1f5d2d-5196-4b0f-eeec-1086f8b740f7"
      },
      "outputs": [
        {
          "output_type": "stream",
          "name": "stderr",
          "text": [
            "[nltk_data] Downloading package punkt_tab to /root/nltk_data...\n",
            "[nltk_data]   Unzipping tokenizers/punkt_tab.zip.\n"
          ]
        },
        {
          "output_type": "execute_result",
          "data": {
            "text/plain": [
              "True"
            ]
          },
          "metadata": {},
          "execution_count": 86
        }
      ],
      "source": [
        "from nltk.tokenize import word_tokenize,sent_tokenize\n",
        "import nltk\n",
        "nltk.download('punkt_tab')"
      ]
    },
    {
      "cell_type": "code",
      "execution_count": 87,
      "metadata": {
        "execution": {
          "iopub.execute_input": "2021-12-31T06:43:44.073430Z",
          "iopub.status.busy": "2021-12-31T06:43:44.072769Z",
          "iopub.status.idle": "2021-12-31T06:43:44.093236Z",
          "shell.execute_reply": "2021-12-31T06:43:44.092271Z",
          "shell.execute_reply.started": "2021-12-31T06:43:44.073393Z"
        },
        "colab": {
          "base_uri": "https://localhost:8080/"
        },
        "id": "-abmrHeNfXJa",
        "outputId": "3c612b93-cc3b-4181-ce98-fb0d1f49a67a"
      },
      "outputs": [
        {
          "output_type": "execute_result",
          "data": {
            "text/plain": [
              "['I', 'am', 'going', 'to', 'visit', 'delhi', '!']"
            ]
          },
          "metadata": {},
          "execution_count": 87
        }
      ],
      "source": [
        "sent1 = 'I am going to visit delhi!'\n",
        "word_tokenize(sent1)"
      ]
    },
    {
      "cell_type": "code",
      "execution_count": 88,
      "metadata": {
        "execution": {
          "iopub.execute_input": "2021-12-10T06:03:00.917544Z",
          "iopub.status.busy": "2021-12-10T06:03:00.915226Z",
          "iopub.status.idle": "2021-12-10T06:03:00.924761Z",
          "shell.execute_reply": "2021-12-10T06:03:00.923887Z",
          "shell.execute_reply.started": "2021-12-10T06:03:00.917502Z"
        },
        "colab": {
          "base_uri": "https://localhost:8080/"
        },
        "id": "g9xpqy5rfXJa",
        "outputId": "5ebc15a4-fc57-4e5b-a98a-d7f4e561f1bd"
      },
      "outputs": [
        {
          "output_type": "execute_result",
          "data": {
            "text/plain": [
              "['Lorem Ipsum is simply dummy text of the printing and typesetting industry?',\n",
              " \"Lorem Ipsum has been the industry's standard dummy text ever since the 1500s,\\nwhen an unknown printer took a galley of type and scrambled it to make a type specimen book.\"]"
            ]
          },
          "metadata": {},
          "execution_count": 88
        }
      ],
      "source": [
        "text = \"\"\"Lorem Ipsum is simply dummy text of the printing and typesetting industry?\n",
        "Lorem Ipsum has been the industry's standard dummy text ever since the 1500s,\n",
        "when an unknown printer took a galley of type and scrambled it to make a type specimen book.\"\"\"\n",
        "\n",
        "sent_tokenize(text)"
      ]
    },
    {
      "cell_type": "code",
      "execution_count": 89,
      "metadata": {
        "execution": {
          "iopub.execute_input": "2021-12-31T06:44:20.220975Z",
          "iopub.status.busy": "2021-12-31T06:44:20.220662Z",
          "iopub.status.idle": "2021-12-31T06:44:20.227882Z",
          "shell.execute_reply": "2021-12-31T06:44:20.227311Z",
          "shell.execute_reply.started": "2021-12-31T06:44:20.220945Z"
        },
        "colab": {
          "base_uri": "https://localhost:8080/"
        },
        "id": "WPcDxHj1fXJa",
        "outputId": "a2453d33-e90e-4a96-afe1-c4e67e43a682"
      },
      "outputs": [
        {
          "output_type": "execute_result",
          "data": {
            "text/plain": [
              "['I', 'have', 'a', 'Ph.D', 'in', 'A.I']"
            ]
          },
          "metadata": {},
          "execution_count": 89
        }
      ],
      "source": [
        "sent5 = 'I have a Ph.D in A.I'\n",
        "sent6 = \"We're here to help! mail us at nks@gmail.com\"\n",
        "sent7 = 'A 5km ride cost $10.50'\n",
        "\n",
        "word_tokenize(sent5)"
      ]
    },
    {
      "cell_type": "code",
      "execution_count": 90,
      "metadata": {
        "execution": {
          "iopub.execute_input": "2021-12-31T06:44:25.644168Z",
          "iopub.status.busy": "2021-12-31T06:44:25.643643Z",
          "iopub.status.idle": "2021-12-31T06:44:25.651199Z",
          "shell.execute_reply": "2021-12-31T06:44:25.650604Z",
          "shell.execute_reply.started": "2021-12-31T06:44:25.644113Z"
        },
        "colab": {
          "base_uri": "https://localhost:8080/"
        },
        "id": "7DPWnjOJfXJa",
        "outputId": "9e5d7ca3-0a0d-4326-8ba8-91e1d1a92e2b"
      },
      "outputs": [
        {
          "output_type": "execute_result",
          "data": {
            "text/plain": [
              "['We',\n",
              " \"'re\",\n",
              " 'here',\n",
              " 'to',\n",
              " 'help',\n",
              " '!',\n",
              " 'mail',\n",
              " 'us',\n",
              " 'at',\n",
              " 'nks',\n",
              " '@',\n",
              " 'gmail.com']"
            ]
          },
          "metadata": {},
          "execution_count": 90
        }
      ],
      "source": [
        "word_tokenize(sent6)"
      ]
    },
    {
      "cell_type": "code",
      "execution_count": 91,
      "metadata": {
        "execution": {
          "iopub.execute_input": "2021-12-31T06:44:28.249968Z",
          "iopub.status.busy": "2021-12-31T06:44:28.249507Z",
          "iopub.status.idle": "2021-12-31T06:44:28.255852Z",
          "shell.execute_reply": "2021-12-31T06:44:28.254914Z",
          "shell.execute_reply.started": "2021-12-31T06:44:28.249918Z"
        },
        "colab": {
          "base_uri": "https://localhost:8080/"
        },
        "id": "4fP4Af93fXJb",
        "outputId": "60eb1a97-9e2e-4588-835f-88494570e1db"
      },
      "outputs": [
        {
          "output_type": "execute_result",
          "data": {
            "text/plain": [
              "['A', '5km', 'ride', 'cost', '$', '10.50']"
            ]
          },
          "metadata": {},
          "execution_count": 91
        }
      ],
      "source": [
        "word_tokenize(sent7)"
      ]
    },
    {
      "cell_type": "markdown",
      "metadata": {
        "id": "zGCXaozqfXJb"
      },
      "source": [
        "### 4. Spacy (good)"
      ]
    },
    {
      "cell_type": "markdown",
      "source": [
        "we are untokenizing what we did earlier"
      ],
      "metadata": {
        "id": "_V7qFvKttg2e"
      }
    },
    {
      "cell_type": "code",
      "execution_count": 92,
      "metadata": {
        "execution": {
          "iopub.execute_input": "2021-12-31T06:44:30.428238Z",
          "iopub.status.busy": "2021-12-31T06:44:30.427753Z",
          "iopub.status.idle": "2021-12-31T06:44:40.692846Z",
          "shell.execute_reply": "2021-12-31T06:44:40.692211Z",
          "shell.execute_reply.started": "2021-12-31T06:44:30.428189Z"
        },
        "id": "SwVDcE4mfXJb"
      },
      "outputs": [],
      "source": [
        "import spacy\n",
        "nlp = spacy.load('en_core_web_sm')"
      ]
    },
    {
      "cell_type": "code",
      "execution_count": 93,
      "metadata": {
        "execution": {
          "iopub.execute_input": "2021-12-31T06:44:40.694652Z",
          "iopub.status.busy": "2021-12-31T06:44:40.694267Z",
          "iopub.status.idle": "2021-12-31T06:44:40.739047Z",
          "shell.execute_reply": "2021-12-31T06:44:40.738463Z",
          "shell.execute_reply.started": "2021-12-31T06:44:40.694605Z"
        },
        "id": "hT14PkK_fXJb"
      },
      "outputs": [],
      "source": [
        "doc1 = nlp(sent5)\n",
        "doc2 = nlp(sent6)\n",
        "doc3 = nlp(sent7)\n",
        "doc4 = nlp(sent1)"
      ]
    },
    {
      "cell_type": "code",
      "source": [
        "doc4 = nlp(sent1)\n",
        "doc4"
      ],
      "metadata": {
        "colab": {
          "base_uri": "https://localhost:8080/"
        },
        "id": "IqiMgoh02hVU",
        "outputId": "1fcdcee4-e1e7-4327-d5d1-1bef707ba1a1"
      },
      "execution_count": 94,
      "outputs": [
        {
          "output_type": "execute_result",
          "data": {
            "text/plain": [
              "I am going to visit delhi!"
            ]
          },
          "metadata": {},
          "execution_count": 94
        }
      ]
    },
    {
      "cell_type": "code",
      "execution_count": 95,
      "metadata": {
        "execution": {
          "iopub.execute_input": "2021-12-31T06:44:55.784086Z",
          "iopub.status.busy": "2021-12-31T06:44:55.783589Z",
          "iopub.status.idle": "2021-12-31T06:44:55.790345Z",
          "shell.execute_reply": "2021-12-31T06:44:55.789180Z",
          "shell.execute_reply.started": "2021-12-31T06:44:55.784037Z"
        },
        "colab": {
          "base_uri": "https://localhost:8080/"
        },
        "id": "99vrOvtQfXJc",
        "outputId": "02cbe56b-9c16-4e3a-e69e-16775a0b84b0"
      },
      "outputs": [
        {
          "output_type": "stream",
          "name": "stdout",
          "text": [
            "I\n",
            "am\n",
            "going\n",
            "to\n",
            "visit\n",
            "delhi\n",
            "!\n"
          ]
        }
      ],
      "source": [
        "for token in doc4:\n",
        "    print(token)"
      ]
    },
    {
      "cell_type": "code",
      "source": [
        "df.head()"
      ],
      "metadata": {
        "colab": {
          "base_uri": "https://localhost:8080/",
          "height": 206
        },
        "id": "3uhpdsyI2pac",
        "outputId": "7a2403d7-88bd-421c-e65c-a540317b5ba5"
      },
      "execution_count": 96,
      "outputs": [
        {
          "output_type": "execute_result",
          "data": {
            "text/plain": [
              "                                              review sentiment\n",
              "0  one of the other reviewers has mentioned that ...  positive\n",
              "1  a wonderful little production. the filming tec...  positive\n",
              "2  i thought this was a wonderful way to spend ti...  positive\n",
              "3  basically there's a family where a little boy ...  negative\n",
              "4  petter mattei's \"love in the time of money\" is...  positive"
            ],
            "text/html": [
              "\n",
              "  <div id=\"df-2dc26977-c128-4cad-8b14-f0b3bd4dab61\" class=\"colab-df-container\">\n",
              "    <div>\n",
              "<style scoped>\n",
              "    .dataframe tbody tr th:only-of-type {\n",
              "        vertical-align: middle;\n",
              "    }\n",
              "\n",
              "    .dataframe tbody tr th {\n",
              "        vertical-align: top;\n",
              "    }\n",
              "\n",
              "    .dataframe thead th {\n",
              "        text-align: right;\n",
              "    }\n",
              "</style>\n",
              "<table border=\"1\" class=\"dataframe\">\n",
              "  <thead>\n",
              "    <tr style=\"text-align: right;\">\n",
              "      <th></th>\n",
              "      <th>review</th>\n",
              "      <th>sentiment</th>\n",
              "    </tr>\n",
              "  </thead>\n",
              "  <tbody>\n",
              "    <tr>\n",
              "      <th>0</th>\n",
              "      <td>one of the other reviewers has mentioned that ...</td>\n",
              "      <td>positive</td>\n",
              "    </tr>\n",
              "    <tr>\n",
              "      <th>1</th>\n",
              "      <td>a wonderful little production. the filming tec...</td>\n",
              "      <td>positive</td>\n",
              "    </tr>\n",
              "    <tr>\n",
              "      <th>2</th>\n",
              "      <td>i thought this was a wonderful way to spend ti...</td>\n",
              "      <td>positive</td>\n",
              "    </tr>\n",
              "    <tr>\n",
              "      <th>3</th>\n",
              "      <td>basically there's a family where a little boy ...</td>\n",
              "      <td>negative</td>\n",
              "    </tr>\n",
              "    <tr>\n",
              "      <th>4</th>\n",
              "      <td>petter mattei's \"love in the time of money\" is...</td>\n",
              "      <td>positive</td>\n",
              "    </tr>\n",
              "  </tbody>\n",
              "</table>\n",
              "</div>\n",
              "    <div class=\"colab-df-buttons\">\n",
              "\n",
              "  <div class=\"colab-df-container\">\n",
              "    <button class=\"colab-df-convert\" onclick=\"convertToInteractive('df-2dc26977-c128-4cad-8b14-f0b3bd4dab61')\"\n",
              "            title=\"Convert this dataframe to an interactive table.\"\n",
              "            style=\"display:none;\">\n",
              "\n",
              "  <svg xmlns=\"http://www.w3.org/2000/svg\" height=\"24px\" viewBox=\"0 -960 960 960\">\n",
              "    <path d=\"M120-120v-720h720v720H120Zm60-500h600v-160H180v160Zm220 220h160v-160H400v160Zm0 220h160v-160H400v160ZM180-400h160v-160H180v160Zm440 0h160v-160H620v160ZM180-180h160v-160H180v160Zm440 0h160v-160H620v160Z\"/>\n",
              "  </svg>\n",
              "    </button>\n",
              "\n",
              "  <style>\n",
              "    .colab-df-container {\n",
              "      display:flex;\n",
              "      gap: 12px;\n",
              "    }\n",
              "\n",
              "    .colab-df-convert {\n",
              "      background-color: #E8F0FE;\n",
              "      border: none;\n",
              "      border-radius: 50%;\n",
              "      cursor: pointer;\n",
              "      display: none;\n",
              "      fill: #1967D2;\n",
              "      height: 32px;\n",
              "      padding: 0 0 0 0;\n",
              "      width: 32px;\n",
              "    }\n",
              "\n",
              "    .colab-df-convert:hover {\n",
              "      background-color: #E2EBFA;\n",
              "      box-shadow: 0px 1px 2px rgba(60, 64, 67, 0.3), 0px 1px 3px 1px rgba(60, 64, 67, 0.15);\n",
              "      fill: #174EA6;\n",
              "    }\n",
              "\n",
              "    .colab-df-buttons div {\n",
              "      margin-bottom: 4px;\n",
              "    }\n",
              "\n",
              "    [theme=dark] .colab-df-convert {\n",
              "      background-color: #3B4455;\n",
              "      fill: #D2E3FC;\n",
              "    }\n",
              "\n",
              "    [theme=dark] .colab-df-convert:hover {\n",
              "      background-color: #434B5C;\n",
              "      box-shadow: 0px 1px 3px 1px rgba(0, 0, 0, 0.15);\n",
              "      filter: drop-shadow(0px 1px 2px rgba(0, 0, 0, 0.3));\n",
              "      fill: #FFFFFF;\n",
              "    }\n",
              "  </style>\n",
              "\n",
              "    <script>\n",
              "      const buttonEl =\n",
              "        document.querySelector('#df-2dc26977-c128-4cad-8b14-f0b3bd4dab61 button.colab-df-convert');\n",
              "      buttonEl.style.display =\n",
              "        google.colab.kernel.accessAllowed ? 'block' : 'none';\n",
              "\n",
              "      async function convertToInteractive(key) {\n",
              "        const element = document.querySelector('#df-2dc26977-c128-4cad-8b14-f0b3bd4dab61');\n",
              "        const dataTable =\n",
              "          await google.colab.kernel.invokeFunction('convertToInteractive',\n",
              "                                                    [key], {});\n",
              "        if (!dataTable) return;\n",
              "\n",
              "        const docLinkHtml = 'Like what you see? Visit the ' +\n",
              "          '<a target=\"_blank\" href=https://colab.research.google.com/notebooks/data_table.ipynb>data table notebook</a>'\n",
              "          + ' to learn more about interactive tables.';\n",
              "        element.innerHTML = '';\n",
              "        dataTable['output_type'] = 'display_data';\n",
              "        await google.colab.output.renderOutput(dataTable, element);\n",
              "        const docLink = document.createElement('div');\n",
              "        docLink.innerHTML = docLinkHtml;\n",
              "        element.appendChild(docLink);\n",
              "      }\n",
              "    </script>\n",
              "  </div>\n",
              "\n",
              "\n",
              "<div id=\"df-7aa0503c-fa76-4608-bcd0-5094525f88c9\">\n",
              "  <button class=\"colab-df-quickchart\" onclick=\"quickchart('df-7aa0503c-fa76-4608-bcd0-5094525f88c9')\"\n",
              "            title=\"Suggest charts\"\n",
              "            style=\"display:none;\">\n",
              "\n",
              "<svg xmlns=\"http://www.w3.org/2000/svg\" height=\"24px\"viewBox=\"0 0 24 24\"\n",
              "     width=\"24px\">\n",
              "    <g>\n",
              "        <path d=\"M19 3H5c-1.1 0-2 .9-2 2v14c0 1.1.9 2 2 2h14c1.1 0 2-.9 2-2V5c0-1.1-.9-2-2-2zM9 17H7v-7h2v7zm4 0h-2V7h2v10zm4 0h-2v-4h2v4z\"/>\n",
              "    </g>\n",
              "</svg>\n",
              "  </button>\n",
              "\n",
              "<style>\n",
              "  .colab-df-quickchart {\n",
              "      --bg-color: #E8F0FE;\n",
              "      --fill-color: #1967D2;\n",
              "      --hover-bg-color: #E2EBFA;\n",
              "      --hover-fill-color: #174EA6;\n",
              "      --disabled-fill-color: #AAA;\n",
              "      --disabled-bg-color: #DDD;\n",
              "  }\n",
              "\n",
              "  [theme=dark] .colab-df-quickchart {\n",
              "      --bg-color: #3B4455;\n",
              "      --fill-color: #D2E3FC;\n",
              "      --hover-bg-color: #434B5C;\n",
              "      --hover-fill-color: #FFFFFF;\n",
              "      --disabled-bg-color: #3B4455;\n",
              "      --disabled-fill-color: #666;\n",
              "  }\n",
              "\n",
              "  .colab-df-quickchart {\n",
              "    background-color: var(--bg-color);\n",
              "    border: none;\n",
              "    border-radius: 50%;\n",
              "    cursor: pointer;\n",
              "    display: none;\n",
              "    fill: var(--fill-color);\n",
              "    height: 32px;\n",
              "    padding: 0;\n",
              "    width: 32px;\n",
              "  }\n",
              "\n",
              "  .colab-df-quickchart:hover {\n",
              "    background-color: var(--hover-bg-color);\n",
              "    box-shadow: 0 1px 2px rgba(60, 64, 67, 0.3), 0 1px 3px 1px rgba(60, 64, 67, 0.15);\n",
              "    fill: var(--button-hover-fill-color);\n",
              "  }\n",
              "\n",
              "  .colab-df-quickchart-complete:disabled,\n",
              "  .colab-df-quickchart-complete:disabled:hover {\n",
              "    background-color: var(--disabled-bg-color);\n",
              "    fill: var(--disabled-fill-color);\n",
              "    box-shadow: none;\n",
              "  }\n",
              "\n",
              "  .colab-df-spinner {\n",
              "    border: 2px solid var(--fill-color);\n",
              "    border-color: transparent;\n",
              "    border-bottom-color: var(--fill-color);\n",
              "    animation:\n",
              "      spin 1s steps(1) infinite;\n",
              "  }\n",
              "\n",
              "  @keyframes spin {\n",
              "    0% {\n",
              "      border-color: transparent;\n",
              "      border-bottom-color: var(--fill-color);\n",
              "      border-left-color: var(--fill-color);\n",
              "    }\n",
              "    20% {\n",
              "      border-color: transparent;\n",
              "      border-left-color: var(--fill-color);\n",
              "      border-top-color: var(--fill-color);\n",
              "    }\n",
              "    30% {\n",
              "      border-color: transparent;\n",
              "      border-left-color: var(--fill-color);\n",
              "      border-top-color: var(--fill-color);\n",
              "      border-right-color: var(--fill-color);\n",
              "    }\n",
              "    40% {\n",
              "      border-color: transparent;\n",
              "      border-right-color: var(--fill-color);\n",
              "      border-top-color: var(--fill-color);\n",
              "    }\n",
              "    60% {\n",
              "      border-color: transparent;\n",
              "      border-right-color: var(--fill-color);\n",
              "    }\n",
              "    80% {\n",
              "      border-color: transparent;\n",
              "      border-right-color: var(--fill-color);\n",
              "      border-bottom-color: var(--fill-color);\n",
              "    }\n",
              "    90% {\n",
              "      border-color: transparent;\n",
              "      border-bottom-color: var(--fill-color);\n",
              "    }\n",
              "  }\n",
              "</style>\n",
              "\n",
              "  <script>\n",
              "    async function quickchart(key) {\n",
              "      const quickchartButtonEl =\n",
              "        document.querySelector('#' + key + ' button');\n",
              "      quickchartButtonEl.disabled = true;  // To prevent multiple clicks.\n",
              "      quickchartButtonEl.classList.add('colab-df-spinner');\n",
              "      try {\n",
              "        const charts = await google.colab.kernel.invokeFunction(\n",
              "            'suggestCharts', [key], {});\n",
              "      } catch (error) {\n",
              "        console.error('Error during call to suggestCharts:', error);\n",
              "      }\n",
              "      quickchartButtonEl.classList.remove('colab-df-spinner');\n",
              "      quickchartButtonEl.classList.add('colab-df-quickchart-complete');\n",
              "    }\n",
              "    (() => {\n",
              "      let quickchartButtonEl =\n",
              "        document.querySelector('#df-7aa0503c-fa76-4608-bcd0-5094525f88c9 button');\n",
              "      quickchartButtonEl.style.display =\n",
              "        google.colab.kernel.accessAllowed ? 'block' : 'none';\n",
              "    })();\n",
              "  </script>\n",
              "</div>\n",
              "\n",
              "    </div>\n",
              "  </div>\n"
            ],
            "application/vnd.google.colaboratory.intrinsic+json": {
              "type": "dataframe",
              "variable_name": "df",
              "summary": "{\n  \"name\": \"df\",\n  \"rows\": 100,\n  \"fields\": [\n    {\n      \"column\": \"review\",\n      \"properties\": {\n        \"dtype\": \"string\",\n        \"num_unique_values\": 100,\n        \"samples\": [\n          \"\\\"fate\\\" leads walter sparrow to come in possession of a mysterious novel that has eerie similarities and connections to his life, all based around the number 23. as the story unfolds in real life and fiction, sparrow must figure out his connection to the book and how the story will eventually end.the number 23 offers an intriguing premise that is undone by a weak execution. the film just failed on many different levels which is pretty disappointing because it held so much potential. the screenplay was probably the worst part about it. it was filled with silly sequences and laughable dialog that just killed the mood of the movie. it seemed like the screenwriter had a good idea, he just didn't know how to develop it to stretch over a ninety minute running time. the second half of the film was running low on ideas, the twist was pretty obvious and the ending was awful.joel schumacher is responsible for one of the worst movies ever and he did redeem himself a little with phone booth and a few other films but the number 23 reminds me that he's still capable of making a stinker. he has the movie drenched in style but he just can't get a good focus. he moves the film at a clunky and slow pace. he switches from reality to what's actually happening in the book which quickly got annoying. the actual book in the film that's titled \\\"the number 23\\\" is an awful detective story and the audience gets stuck listening to carrey narrate it which just bored me to tears. when carrey is finally done with book, we get stuck watching him run around trying to solve the mystery. at this point, the audience has lost interest and there is no real tension. we impatiently wait for the movie to reach it's horrible ending and unconvincing explanation before celebrating that film has finally finished.the acting was mostly average and pretty forgettable. jim carrey was clearly just sleepwalking through his performance and he didn't even seem to be trying. he was either completely over the top in some scenes or just very wooden. his narration was a complete bore to listen to and he put no life inside his character. virginia madsen did the best she could with a limited role but she needs to pick better scripts. logan lerman was pretty bland as was danny huston. overall, the number 23 was an awful thriller that offered more laughs than suspense or thrills. rating 3/10\",\n          \"i cannot believe i enjoyed this as much as i did. the anthology stories were better than par, but the linking story and its surprise ending hooked me. alot of familiar faces will keep you asking yourself \\\"where i have i seen them before?\\\" forget the running time listed on new line's tape, this ain't no 103 minutes, according to my vcr timer and imdb. space maggot douses the campfire in his own special way and hikes this an 8.\",\n          \"caddyshack two is a good movie by itself but compared to the original it cant stack up. robert stack is a horrible replacement for ted knight and jackie mason, while funny just cant compete with rodney dangerfield. ty webb is funny, being the only character from the original. most of the other characters in the movie lack the punch of the original (henry wilcoxon for example) except for the hystericly funny lawyer peter blunt, being played by randy quaid. every line he says reminds me of the originals humor, especially the scene at his office (i don't go in for law suits or motions. i find out where you live and come to your house and beat down your door with a f***ing baseball bat, make a bonfire with the chippindale,maybe roast that golden retriever (arff arff arff) then eat it. and then i'm comin' upstairs junior, and i'm grabbing you by your brooks brothers pjs, and cramming your brand new bmw up your tight a**! do we have an understanding?). offsetting his small role however, is dan acroyd, who is obviously no replacement for bill murray. his voice is beyond irritating and everything he does isnt even funny, its just stupid. overall caddyshack ii is a good movie, but in comparison to the awesome original it just cant cut it.\"\n        ],\n        \"semantic_type\": \"\",\n        \"description\": \"\"\n      }\n    },\n    {\n      \"column\": \"sentiment\",\n      \"properties\": {\n        \"dtype\": \"category\",\n        \"num_unique_values\": 2,\n        \"samples\": [\n          \"negative\",\n          \"positive\"\n        ],\n        \"semantic_type\": \"\",\n        \"description\": \"\"\n      }\n    }\n  ]\n}"
            }
          },
          "metadata": {},
          "execution_count": 96
        }
      ]
    },
    {
      "cell_type": "markdown",
      "metadata": {
        "id": "3ZO2iHAUfXJc"
      },
      "source": [
        "# Stemmer"
      ]
    },
    {
      "cell_type": "markdown",
      "source": [
        "extracting the stem words. not human readable words"
      ],
      "metadata": {
        "id": "JUtkJ0oCtr59"
      }
    },
    {
      "cell_type": "code",
      "execution_count": 100,
      "metadata": {
        "execution": {
          "iopub.execute_input": "2021-12-31T06:45:24.636271Z",
          "iopub.status.busy": "2021-12-31T06:45:24.635982Z",
          "iopub.status.idle": "2021-12-31T06:45:24.640222Z",
          "shell.execute_reply": "2021-12-31T06:45:24.639613Z",
          "shell.execute_reply.started": "2021-12-31T06:45:24.636238Z"
        },
        "id": "b9QyBoF7fXJd"
      },
      "outputs": [],
      "source": [
        "from nltk.stem.porter import PorterStemmer"
      ]
    },
    {
      "cell_type": "code",
      "execution_count": 101,
      "metadata": {
        "execution": {
          "iopub.execute_input": "2021-12-31T06:46:07.014808Z",
          "iopub.status.busy": "2021-12-31T06:46:07.014418Z",
          "iopub.status.idle": "2021-12-31T06:46:07.021274Z",
          "shell.execute_reply": "2021-12-31T06:46:07.020180Z",
          "shell.execute_reply.started": "2021-12-31T06:46:07.014768Z"
        },
        "id": "tvzg9ij1fXJd"
      },
      "outputs": [],
      "source": [
        "ps = PorterStemmer()\n",
        "def stem_words(text):\n",
        "    return \" \".join([ps.stem(word) for word in text.split()])"
      ]
    },
    {
      "cell_type": "code",
      "execution_count": 102,
      "metadata": {
        "execution": {
          "iopub.execute_input": "2021-12-31T06:46:09.751707Z",
          "iopub.status.busy": "2021-12-31T06:46:09.751139Z",
          "iopub.status.idle": "2021-12-31T06:46:09.758027Z",
          "shell.execute_reply": "2021-12-31T06:46:09.757151Z",
          "shell.execute_reply.started": "2021-12-31T06:46:09.751645Z"
        },
        "colab": {
          "base_uri": "https://localhost:8080/",
          "height": 35
        },
        "id": "4G6Hlif3fXJd",
        "outputId": "27b68b36-830c-4072-9a5b-dab34acf891d"
      },
      "outputs": [
        {
          "output_type": "execute_result",
          "data": {
            "text/plain": [
              "'walk walk walk walk'"
            ],
            "application/vnd.google.colaboratory.intrinsic+json": {
              "type": "string"
            }
          },
          "metadata": {},
          "execution_count": 102
        }
      ],
      "source": [
        "sample = \"walk walks walking walked\"\n",
        "stem_words(sample)\n"
      ]
    },
    {
      "cell_type": "code",
      "execution_count": 106,
      "metadata": {
        "execution": {
          "iopub.execute_input": "2021-12-31T06:46:13.794724Z",
          "iopub.status.busy": "2021-12-31T06:46:13.794420Z",
          "iopub.status.idle": "2021-12-31T06:46:13.800289Z",
          "shell.execute_reply": "2021-12-31T06:46:13.799470Z",
          "shell.execute_reply.started": "2021-12-31T06:46:13.794690Z"
        },
        "colab": {
          "base_uri": "https://localhost:8080/"
        },
        "id": "z9yy0koLfXJd",
        "outputId": "f6053db9-9c09-45ff-cab0-e34dfd9819ac"
      },
      "outputs": [
        {
          "output_type": "stream",
          "name": "stdout",
          "text": [
            "probably my alltime favorite movie a story of selflessness sacrifice and dedication to a noble cause but its not preachy or boring it just never gets old despite my having seen it some 15 or more times in the last 25 years paul lukas performance brings tears to my eyes and bette davis in one of her very few truly sympathetic roles is a delight the kids are as grandma says more like dressedup midgets than children but that only makes them more fun to watch and the mothers slow awakening to whats happening in the world and under her own roof is believable and startling if i had a dozen thumbs theyd all be up for this movie\n"
          ]
        }
      ],
      "source": [
        "text = 'probably my alltime favorite movie a story of selflessness sacrifice and dedication to a noble cause but its not preachy or boring it just never gets old despite my having seen it some 15 or more times in the last 25 years paul lukas performance brings tears to my eyes and bette davis in one of her very few truly sympathetic roles is a delight the kids are as grandma says more like dressedup midgets than children but that only makes them more fun to watch and the mothers slow awakening to whats happening in the world and under her own roof is believable and startling if i had a dozen thumbs theyd all be up for this movie'\n",
        "print(text)"
      ]
    },
    {
      "cell_type": "code",
      "execution_count": 107,
      "metadata": {
        "execution": {
          "iopub.execute_input": "2021-12-31T06:46:38.928962Z",
          "iopub.status.busy": "2021-12-31T06:46:38.928309Z",
          "iopub.status.idle": "2021-12-31T06:46:38.938004Z",
          "shell.execute_reply": "2021-12-31T06:46:38.937471Z",
          "shell.execute_reply.started": "2021-12-31T06:46:38.928912Z"
        },
        "colab": {
          "base_uri": "https://localhost:8080/",
          "height": 87
        },
        "id": "UO-aJt_cfXJe",
        "outputId": "620ed2ab-d93b-4f04-a741-d789aaffbb5f"
      },
      "outputs": [
        {
          "output_type": "execute_result",
          "data": {
            "text/plain": [
              "'probabl my alltim favorit movi a stori of selfless sacrific and dedic to a nobl caus but it not preachi or bore it just never get old despit my have seen it some 15 or more time in the last 25 year paul luka perform bring tear to my eye and bett davi in one of her veri few truli sympathet role is a delight the kid are as grandma say more like dressedup midget than children but that onli make them more fun to watch and the mother slow awaken to what happen in the world and under her own roof is believ and startl if i had a dozen thumb theyd all be up for thi movi'"
            ],
            "application/vnd.google.colaboratory.intrinsic+json": {
              "type": "string"
            }
          },
          "metadata": {},
          "execution_count": 107
        }
      ],
      "source": [
        "stem_words(text)"
      ]
    },
    {
      "cell_type": "markdown",
      "metadata": {
        "id": "40L9UIwhfXJe"
      },
      "source": [
        "# Lemmatization"
      ]
    },
    {
      "cell_type": "markdown",
      "source": [
        "do stemming but in human readable form"
      ],
      "metadata": {
        "id": "pSIANKnUtuhw"
      }
    },
    {
      "cell_type": "markdown",
      "source": [
        "Sure, let's break down the code step by step to understand what it does:\n",
        "\n",
        "1. **Importing the WordNetLemmatizer**:\n",
        "   ```python\n",
        "   wordnet_lemmatizer = WordNetLemmatizer()\n",
        "   ```\n",
        "   This line initializes the `WordNetLemmatizer` from the `nltk` library, which is used for lemmatizing words.\n",
        "\n",
        "2. **Defining the Sentence**:\n",
        "   ```python\n",
        "   sentence = \"He was running and eating at same time. He has bad habit of swimming after playing long hours in the Sun.\"\n",
        "   ```\n",
        "   This line defines a string variable `sentence` with the given text.\n",
        "\n",
        "3. **Defining Punctuations**:\n",
        "   ```python\n",
        "   punctuations = \"?:!.,;\"\n",
        "   ```\n",
        "   This line defines a string of punctuation characters that we want to remove from the tokenized words.\n",
        "\n",
        "4. **Tokenizing the Sentence**:\n",
        "   ```python\n",
        "   sentence_words = nltk.word_tokenize(sentence)\n",
        "   ```\n",
        "   This line uses the `word_tokenize` function from `nltk` to split the sentence into individual words (tokens).\n",
        "\n",
        "5. **Removing Punctuations**:\n",
        "   ```python\n",
        "   for word in sentence_words:\n",
        "       if word in punctuations:\n",
        "           sentence_words.remove(word)\n",
        "   ```\n",
        "   This loop iterates over the tokenized words and removes any word that is in the `punctuations` string. However, note that modifying a list while iterating over it can lead to unexpected behavior. A better approach would be to use a list comprehension.\n",
        "\n",
        "6. **Printing the Tokens**:\n",
        "   ```python\n",
        "   sentence_words\n",
        "   ```\n",
        "   This line is supposed to print the tokens, but it seems like you might have missed the `print` function. It should be:\n",
        "   ```python\n",
        "   print(sentence_words)\n",
        "   ```\n",
        "\n",
        "7. **Printing the Header**:\n",
        "   ```python\n",
        "   print(\"{0:20}{1:20}\".format(\"Word\",\"Lemma\"))\n",
        "   ```\n",
        "   This line prints a formatted header with the columns \"Word\" and \"Lemma\".\n",
        "\n",
        "8. **Lemmatizing and Printing Each Word**:\n",
        "   ```python\n",
        "   for word in sentence_words:\n",
        "       print (\"{0:20}{1:20}\".format(word, wordnet_lemmatizer.lemmatize(word, pos='v')))\n",
        "   ```\n",
        "   This loop iterates over the tokenized words, lemmatizes each word using the `WordNetLemmatizer` with the part of speech (POS) tag set to 'verb' (`pos='v'`), and prints the original word and its lemma in a formatted way.\n",
        "\n",
        "### Corrected Code\n",
        "Here's a corrected version of your code with improvements:\n",
        "```python\n",
        "import nltk\n",
        "from nltk.stem import WordNetLemmatizer\n",
        "\n",
        "wordnet_lemmatizer = WordNetLemmatizer()\n",
        "\n",
        "sentence = \"He was running and eating at same time. He has bad habit of swimming after playing long hours in the Sun.\"\n",
        "punctuations = \"?:!.,;\"\n",
        "\n",
        "# Tokenize the sentence\n",
        "sentence_words = nltk.word_tokenize(sentence)\n",
        "\n",
        "# Remove punctuations\n",
        "sentence_words = [word for word in sentence_words if word not in punctuations]\n",
        "\n",
        "# Print the tokens\n",
        "print(sentence_words)\n",
        "\n",
        "# Print the header\n",
        "print(\"{0:20}{1:20}\".format(\"Word\", \"Lemma\"))\n",
        "\n",
        "# Lemmatize and print each word\n",
        "for word in sentence_words:\n",
        "    print(\"{0:20}{1:20}\".format(word, wordnet_lemmatizer.lemmatize(word, pos='v')))\n",
        "```\n",
        "\n",
        "### Explanation\n",
        "- **Tokenization**: Splits the sentence into individual words.\n",
        "- **Punctuation Removal**: Removes punctuation marks from the list of words.\n",
        "- **Lemmatization**: Converts each word to its base form (lemma) considering it as a verb.\n",
        "- **Formatted Output**: Prints the original words and their lemmas in a formatted table.\n",
        "\n",
        "### Output\n",
        "When you run the corrected code, the output will be:\n",
        "```\n",
        "['He', 'was', 'running', 'and', 'eating', 'at', 'same', 'time', 'He', 'has', 'bad', 'habit', 'of', 'swimming', 'after', 'playing', 'long', 'hours', 'in', 'the', 'Sun']\n",
        "Word                Lemma               \n",
        "He                  be                  \n",
        "was                 be                  \n",
        "running             run                 \n",
        "and                 and                 \n",
        "eating              eat                 \n",
        "at                  at                  \n",
        "same                same                \n",
        "time                time                \n",
        "He                  be                  \n",
        "has                 have                \n",
        "bad                 bad                 \n",
        "habit               habit               \n",
        "of                  of                  \n",
        "swimming            swim                \n",
        "after               after               \n",
        "playing             play                \n",
        "long                long                \n",
        "hours               hour                \n",
        "in                  in                  \n",
        "the                 the                 \n",
        "Sun                 Sun                 \n",
        "```\n",
        "\n",
        "This output shows the original words and their corresponding lemmas.\n",
        "\n",
        "Does this help clarify the code? Let me know if you have any more questions!"
      ],
      "metadata": {
        "id": "9QXiD1BauidG"
      }
    },
    {
      "cell_type": "code",
      "execution_count": 108,
      "metadata": {
        "execution": {
          "iopub.execute_input": "2021-12-31T06:50:09.585926Z",
          "iopub.status.busy": "2021-12-31T06:50:09.585607Z",
          "iopub.status.idle": "2021-12-31T06:50:11.918170Z",
          "shell.execute_reply": "2021-12-31T06:50:11.917310Z",
          "shell.execute_reply.started": "2021-12-31T06:50:09.585885Z"
        },
        "colab": {
          "base_uri": "https://localhost:8080/"
        },
        "id": "eAf31FTGfXJe",
        "outputId": "5703a02f-fbac-4833-d3a2-d4f925ff8a3a"
      },
      "outputs": [
        {
          "output_type": "stream",
          "name": "stderr",
          "text": [
            "[nltk_data] Downloading package wordnet to /root/nltk_data...\n",
            "[nltk_data] Downloading package omw-1.4 to /root/nltk_data...\n"
          ]
        },
        {
          "output_type": "stream",
          "name": "stdout",
          "text": [
            "Word                Lemma               \n",
            "He                  He                  \n",
            "was                 be                  \n",
            "running             run                 \n",
            "and                 and                 \n",
            "eating              eat                 \n",
            "at                  at                  \n",
            "same                same                \n",
            "time                time                \n",
            "He                  He                  \n",
            "has                 have                \n",
            "bad                 bad                 \n",
            "habit               habit               \n",
            "of                  of                  \n",
            "swimming            swim                \n",
            "after               after               \n",
            "playing             play                \n",
            "long                long                \n",
            "hours               hours               \n",
            "in                  in                  \n",
            "the                 the                 \n",
            "Sun                 Sun                 \n"
          ]
        }
      ],
      "source": [
        "import nltk\n",
        "from nltk.stem import WordNetLemmatizer\n",
        "import nltk\n",
        "nltk.download('wordnet')\n",
        "nltk.download('omw-1.4')\n",
        "wordnet_lemmatizer = WordNetLemmatizer()\n",
        "\n",
        "sentence = \"He was running and eating at same time. He has bad habit of swimming after playing long hours in the Sun.\"\n",
        "punctuations=\"?:!.,;\"\n",
        "sentence_words = nltk.word_tokenize(sentence)\n",
        "for word in sentence_words:\n",
        "    if word in punctuations:\n",
        "        sentence_words.remove(word)\n",
        "\n",
        "sentence_words\n",
        "print(\"{0:20}{1:20}\".format(\"Word\",\"Lemma\"))\n",
        "for word in sentence_words:\n",
        "    print (\"{0:20}{1:20}\".format(word,wordnet_lemmatizer.lemmatize(word,pos='v')))"
      ]
    },
    {
      "cell_type": "markdown",
      "metadata": {
        "id": "TrSXAkATfXJf"
      },
      "source": [
        "#### NOTE: Stemming & lamatization are same to retrieve root words but lamatization is worked good. Lamatization is slow & stemming is fast"
      ]
    }
  ],
  "metadata": {
    "kernelspec": {
      "display_name": "Python 3",
      "language": "python",
      "name": "python3"
    },
    "language_info": {
      "codemirror_mode": {
        "name": "ipython",
        "version": 3
      },
      "file_extension": ".py",
      "mimetype": "text/x-python",
      "name": "python",
      "nbconvert_exporter": "python",
      "pygments_lexer": "ipython3",
      "version": "3.8.5"
    },
    "colab": {
      "provenance": []
    }
  },
  "nbformat": 4,
  "nbformat_minor": 0
}